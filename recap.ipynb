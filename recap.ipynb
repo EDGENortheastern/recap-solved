{
 "cells": [
  {
   "cell_type": "markdown",
   "source": "# Part 1. Lists, dictionaries, tuples and Pandas\n\nIn this Deepnote, we will revise complex data structures by learning how to turn them into Pandas data frames.\n\nYou can make data frames and series from any Python data structure. \n\nData frames are rectangular, they look like spreadsheets.\n\nSeries are one-dimensional. To make it easier think of a series as one column in a data frame.",
   "metadata": {
    "cell_id": "f8b3320e-8f75-4ac0-9306-7d9e375f2581",
    "tags": [],
    "deepnote_cell_type": "markdown",
    "deepnote_cell_height": 326.375
   }
  },
  {
   "cell_type": "code",
   "metadata": {
    "cell_id": "404792ed-3b7a-4d96-b720-eb33de4af1f9",
    "tags": [],
    "deepnote_to_be_reexecuted": false,
    "source_hash": "9b82ee11",
    "execution_start": 1647707126147,
    "execution_millis": 27,
    "deepnote_cell_type": "code",
    "deepnote_cell_height": 81
   },
   "source": "import pandas as pd",
   "execution_count": 1,
   "outputs": []
  },
  {
   "cell_type": "markdown",
   "source": "## Making series from lists 👇🏼",
   "metadata": {
    "cell_id": "3a645e53-1578-43dc-a694-3144c4b7e476",
    "tags": [],
    "deepnote_cell_type": "markdown",
    "deepnote_cell_height": 70
   }
  },
  {
   "cell_type": "code",
   "metadata": {
    "cell_id": "9a7121b8-ce40-40d1-ab49-a72f927c680e",
    "tags": [],
    "deepnote_to_be_reexecuted": false,
    "source_hash": "27bbff67",
    "execution_start": 1647707126174,
    "execution_millis": 4,
    "deepnote_cell_type": "code",
    "deepnote_cell_height": 250.1875,
    "deepnote_output_heights": [
     117.1875
    ]
   },
   "source": "rates = [20, 30, 50, 40, 100] # makes a list\nrates_into_Series = pd.Series(rates) # converts a list to series\nrates_into_Series # prints series: a overtical column with numeric indexes",
   "execution_count": 2,
   "outputs": [
    {
     "output_type": "execute_result",
     "execution_count": 2,
     "data": {
      "text/plain": "0     20\n1     30\n2     50\n3     40\n4    100\ndtype: int64"
     },
     "metadata": {}
    }
   ]
  },
  {
   "cell_type": "code",
   "metadata": {
    "cell_id": "f5977e47-41ee-44b4-bd79-498f24ca0dbb",
    "tags": [],
    "deepnote_to_be_reexecuted": false,
    "source_hash": "301b31a9",
    "execution_start": 1647707126175,
    "execution_millis": 3,
    "deepnote_cell_type": "code",
    "deepnote_cell_height": 118.1875,
    "deepnote_output_heights": [
     21.1875
    ]
   },
   "source": "rates_into_Series.dtype # gets the type of values in a column, an attribute 👇🏼 the data in the column are integers",
   "execution_count": 3,
   "outputs": [
    {
     "output_type": "execute_result",
     "execution_count": 3,
     "data": {
      "text/plain": "dtype('int64')"
     },
     "metadata": {}
    }
   ]
  },
  {
   "cell_type": "markdown",
   "source": "## Making series from tuples 👇🏼",
   "metadata": {
    "cell_id": "337a2c34-f7e8-40a7-94d2-c3529e6b5228",
    "tags": [],
    "deepnote_cell_type": "markdown",
    "deepnote_cell_height": 70
   }
  },
  {
   "cell_type": "code",
   "metadata": {
    "cell_id": "2ca54be3-9de2-4680-991a-8f3f0648ac3c",
    "tags": [],
    "deepnote_to_be_reexecuted": false,
    "source_hash": "8476063c",
    "execution_start": 1647707126177,
    "execution_millis": 7,
    "deepnote_cell_type": "code",
    "deepnote_cell_height": 154.1875,
    "deepnote_output_heights": [
     21.1875
    ]
   },
   "source": "# First we need to make a tuple 👇🏼\ndata_tuple = ('Jeff Bezos', 'Elon Musk', 'Bernard Arnault', 'Bill Gates', 'Warren Buffett')\ntype(data_tuple)",
   "execution_count": 4,
   "outputs": [
    {
     "output_type": "execute_result",
     "execution_count": 4,
     "data": {
      "text/plain": "tuple"
     },
     "metadata": {}
    }
   ]
  },
  {
   "cell_type": "markdown",
   "source": "> reminder - a tuple is a data structure that is immutable",
   "metadata": {
    "cell_id": "fd69c616-86bf-4123-8979-f2f22e977585",
    "tags": [],
    "deepnote_cell_type": "markdown",
    "deepnote_cell_height": 66.390625
   }
  },
  {
   "cell_type": "code",
   "metadata": {
    "cell_id": "155b686c-675a-49f2-a6e5-524b08e76824",
    "tags": [],
    "deepnote_to_be_reexecuted": false,
    "source_hash": "f577a01f",
    "execution_start": 1647707126183,
    "execution_millis": 5,
    "deepnote_cell_type": "code",
    "deepnote_cell_height": 81
   },
   "source": "# data_tuple[2] = \"V. Putin\" - we cannot overwrite a value in a tuple",
   "execution_count": 5,
   "outputs": []
  },
  {
   "cell_type": "code",
   "metadata": {
    "cell_id": "4c2e73e6-30a1-4e4c-a33c-55a5da066f0b",
    "tags": [],
    "deepnote_to_be_reexecuted": false,
    "source_hash": "868f6d0d",
    "execution_start": 1647707126190,
    "execution_millis": 6,
    "deepnote_cell_type": "code",
    "deepnote_cell_height": 232.1875,
    "deepnote_output_heights": [
     117.1875
    ]
   },
   "source": "series_from_tuple = pd.Series(data_tuple) # converts a tuple into series\nseries_from_tuple",
   "execution_count": 6,
   "outputs": [
    {
     "output_type": "execute_result",
     "execution_count": 6,
     "data": {
      "text/plain": "0         Jeff Bezos\n1          Elon Musk\n2    Bernard Arnault\n3         Bill Gates\n4     Warren Buffett\ndtype: object"
     },
     "metadata": {}
    }
   ]
  },
  {
   "cell_type": "code",
   "metadata": {
    "cell_id": "806b8784-4247-4e7e-91ef-a2162b563ac0",
    "tags": [],
    "deepnote_to_be_reexecuted": false,
    "source_hash": "72b52505",
    "execution_start": 1647707126197,
    "execution_millis": 5,
    "deepnote_cell_type": "code",
    "deepnote_cell_height": 118.1875,
    "deepnote_output_heights": [
     21.1875
    ]
   },
   "source": "type(series_from_tuple) # checking the type - it is now a series",
   "execution_count": 7,
   "outputs": [
    {
     "output_type": "execute_result",
     "execution_count": 7,
     "data": {
      "text/plain": "pandas.core.series.Series"
     },
     "metadata": {}
    }
   ]
  },
  {
   "cell_type": "markdown",
   "source": "## Making a data frame from 2 series",
   "metadata": {
    "cell_id": "736a9e1f-7b27-406b-9f2f-d6f63cf09226",
    "tags": [],
    "deepnote_cell_type": "markdown",
    "deepnote_cell_height": 70
   }
  },
  {
   "cell_type": "code",
   "metadata": {
    "cell_id": "9324b79d-6b93-40c7-ae18-980384ac1cc9",
    "tags": [],
    "deepnote_to_be_reexecuted": false,
    "source_hash": "ead06249",
    "execution_start": 1647707126211,
    "execution_millis": 7,
    "deepnote_cell_type": "code",
    "deepnote_cell_height": 118.1875,
    "deepnote_output_heights": [
     21.1875
    ]
   },
   "source": "len(rates) # making sure 2 series are of the same length",
   "execution_count": 8,
   "outputs": [
    {
     "output_type": "execute_result",
     "execution_count": 8,
     "data": {
      "text/plain": "5"
     },
     "metadata": {}
    }
   ]
  },
  {
   "cell_type": "code",
   "metadata": {
    "cell_id": "2eb462b2-ebb7-493a-a9c1-c40f72f9ce8c",
    "tags": [],
    "deepnote_to_be_reexecuted": false,
    "source_hash": "f960e5c0",
    "execution_start": 1647707126255,
    "execution_millis": 75833589,
    "deepnote_cell_type": "code",
    "deepnote_cell_height": 118.1875,
    "deepnote_output_heights": [
     21.1875
    ]
   },
   "source": "len(data_tuple) # making sure 2 series are of the same length",
   "execution_count": 9,
   "outputs": [
    {
     "output_type": "execute_result",
     "execution_count": 9,
     "data": {
      "text/plain": "5"
     },
     "metadata": {}
    }
   ]
  },
  {
   "cell_type": "markdown",
   "source": "## Make a data frame from several of Series\n\nThere are many ways to combine Series into a data frame. I chose the one I thought was the easiest.",
   "metadata": {
    "cell_id": "4458c6ef-f2fc-4046-beb7-a2a8ba84c7d5",
    "tags": [],
    "deepnote_cell_type": "markdown",
    "deepnote_cell_height": 170.78125
   }
  },
  {
   "cell_type": "code",
   "metadata": {
    "cell_id": "ad58500a-7b59-4d2d-b0f8-9bee48b4e8d5",
    "tags": [],
    "deepnote_to_be_reexecuted": false,
    "source_hash": "70426493",
    "execution_start": 1647707126255,
    "execution_millis": 3,
    "deepnote_cell_type": "code",
    "deepnote_cell_height": 465
   },
   "source": "df = pd.DataFrame(columns = ['Names', 'Rates']) # makes an empty data frame\n\ndf['Names'] = series_from_tuple # assigns a series to a column\ndf['Rates'] = rates_into_Series # assigns a series to a column\ndf # weee - we made a dataframe from scratch",
   "execution_count": 10,
   "outputs": [
    {
     "output_type": "execute_result",
     "execution_count": 10,
     "data": {
      "application/vnd.deepnote.dataframe.v3+json": {
       "column_count": 2,
       "row_count": 5,
       "columns": [
        {
         "name": "Names",
         "dtype": "object",
         "stats": {
          "unique_count": 5,
          "nan_count": 0,
          "categories": [
           {
            "name": "Jeff Bezos",
            "count": 1
           },
           {
            "name": "Elon Musk",
            "count": 1
           },
           {
            "name": "3 others",
            "count": 3
           }
          ]
         }
        },
        {
         "name": "Rates",
         "dtype": "int64",
         "stats": {
          "unique_count": 5,
          "nan_count": 0,
          "min": "20",
          "max": "100",
          "histogram": [
           {
            "bin_start": 20,
            "bin_end": 28,
            "count": 1
           },
           {
            "bin_start": 28,
            "bin_end": 36,
            "count": 1
           },
           {
            "bin_start": 36,
            "bin_end": 44,
            "count": 1
           },
           {
            "bin_start": 44,
            "bin_end": 52,
            "count": 1
           },
           {
            "bin_start": 52,
            "bin_end": 60,
            "count": 0
           },
           {
            "bin_start": 60,
            "bin_end": 68,
            "count": 0
           },
           {
            "bin_start": 68,
            "bin_end": 76,
            "count": 0
           },
           {
            "bin_start": 76,
            "bin_end": 84,
            "count": 0
           },
           {
            "bin_start": 84,
            "bin_end": 92,
            "count": 0
           },
           {
            "bin_start": 92,
            "bin_end": 100,
            "count": 1
           }
          ]
         }
        },
        {
         "name": "_deepnote_index_column",
         "dtype": "int64"
        }
       ],
       "rows": [
        {
         "Names": "Jeff Bezos",
         "Rates": 20,
         "_deepnote_index_column": 0
        },
        {
         "Names": "Elon Musk",
         "Rates": 30,
         "_deepnote_index_column": 1
        },
        {
         "Names": "Bernard Arnault",
         "Rates": 50,
         "_deepnote_index_column": 2
        },
        {
         "Names": "Bill Gates",
         "Rates": 40,
         "_deepnote_index_column": 3
        },
        {
         "Names": "Warren Buffett",
         "Rates": 100,
         "_deepnote_index_column": 4
        }
       ]
      },
      "text/plain": "             Names  Rates\n0       Jeff Bezos     20\n1        Elon Musk     30\n2  Bernard Arnault     50\n3       Bill Gates     40\n4   Warren Buffett    100",
      "text/html": "<div>\n<style scoped>\n    .dataframe tbody tr th:only-of-type {\n        vertical-align: middle;\n    }\n\n    .dataframe tbody tr th {\n        vertical-align: top;\n    }\n\n    .dataframe thead th {\n        text-align: right;\n    }\n</style>\n<table border=\"1\" class=\"dataframe\">\n  <thead>\n    <tr style=\"text-align: right;\">\n      <th></th>\n      <th>Names</th>\n      <th>Rates</th>\n    </tr>\n  </thead>\n  <tbody>\n    <tr>\n      <th>0</th>\n      <td>Jeff Bezos</td>\n      <td>20</td>\n    </tr>\n    <tr>\n      <th>1</th>\n      <td>Elon Musk</td>\n      <td>30</td>\n    </tr>\n    <tr>\n      <th>2</th>\n      <td>Bernard Arnault</td>\n      <td>50</td>\n    </tr>\n    <tr>\n      <th>3</th>\n      <td>Bill Gates</td>\n      <td>40</td>\n    </tr>\n    <tr>\n      <th>4</th>\n      <td>Warren Buffett</td>\n      <td>100</td>\n    </tr>\n  </tbody>\n</table>\n</div>"
     },
     "metadata": {}
    }
   ]
  },
  {
   "cell_type": "markdown",
   "source": "## Making series from a dictionary 👇🏼",
   "metadata": {
    "cell_id": "02fe0b4c-e1df-43fa-ae82-0314ebfaca92",
    "tags": [],
    "deepnote_cell_type": "markdown",
    "deepnote_cell_height": 70
   }
  },
  {
   "cell_type": "code",
   "metadata": {
    "cell_id": "4f1c4e59-e3fd-43aa-83f0-4797a5516017",
    "tags": [],
    "deepnote_to_be_reexecuted": false,
    "source_hash": "89cdf2ce",
    "execution_start": 1647707126256,
    "execution_millis": 3,
    "deepnote_cell_type": "code",
    "deepnote_cell_height": 99
   },
   "source": "# first we make a very simple dictionary\ndata_dict = {\"Apple\": \"fruit\", \"Cat\": \"animal\", \"Putin\":\"war criminal\"}",
   "execution_count": 11,
   "outputs": []
  },
  {
   "cell_type": "code",
   "metadata": {
    "cell_id": "7e1c2c05-107a-4632-ba1c-160b77ef0b9a",
    "tags": [],
    "deepnote_to_be_reexecuted": false,
    "source_hash": "262bc293",
    "execution_start": 1647707126262,
    "execution_millis": 7,
    "deepnote_cell_type": "code",
    "deepnote_cell_height": 111.53125
   },
   "source": "print(type(data_dict))",
   "execution_count": 12,
   "outputs": [
    {
     "name": "stdout",
     "text": "<class 'dict'>\n",
     "output_type": "stream"
    }
   ]
  },
  {
   "cell_type": "code",
   "metadata": {
    "cell_id": "b7fb7101-4423-470a-b585-c4e3d36151f9",
    "tags": [],
    "deepnote_to_be_reexecuted": false,
    "source_hash": "3746531f",
    "execution_start": 1647707126270,
    "execution_millis": 7,
    "deepnote_cell_type": "code",
    "deepnote_cell_height": 81
   },
   "source": "series_from_dict = pd.Series(data=data_dict)",
   "execution_count": 13,
   "outputs": []
  },
  {
   "cell_type": "code",
   "metadata": {
    "cell_id": "6617989d-7e5a-4398-a60b-ae5aa502c5c9",
    "tags": [],
    "deepnote_to_be_reexecuted": false,
    "source_hash": "deaffc14",
    "execution_start": 1647707126278,
    "execution_millis": 6,
    "allow_embed": "code_output",
    "deepnote_cell_type": "code",
    "deepnote_cell_height": 175.78125,
    "deepnote_output_heights": [
     78.78125
    ]
   },
   "source": "series_from_dict # Series based on dictionaries have named keys",
   "execution_count": 14,
   "outputs": [
    {
     "output_type": "execute_result",
     "execution_count": 14,
     "data": {
      "text/plain": "Apple           fruit\nCat            animal\nPutin    war criminal\ndtype: object"
     },
     "metadata": {}
    }
   ]
  },
  {
   "cell_type": "markdown",
   "source": "## We can make data frames from dictionaries with lists as values",
   "metadata": {
    "cell_id": "4966d5b0-4842-44a3-9d6a-8729531e05a2",
    "tags": [],
    "deepnote_cell_type": "markdown",
    "deepnote_cell_height": 110
   }
  },
  {
   "cell_type": "code",
   "metadata": {
    "cell_id": "62511d8c-516f-45ce-840f-4eada746a1c0",
    "tags": [],
    "deepnote_to_be_reexecuted": false,
    "source_hash": "631a8354",
    "execution_start": 1647707126286,
    "execution_millis": 3,
    "deepnote_cell_type": "code",
    "deepnote_cell_height": 81
   },
   "source": "new_dict = {\"Fruits\": [\"apple\", \"banana\", \"tomato\"], \"Amount\":[3,5,6]}",
   "execution_count": 15,
   "outputs": []
  },
  {
   "cell_type": "code",
   "metadata": {
    "cell_id": "08f1c304-fe0d-4cb9-b452-6431eeac8933",
    "tags": [],
    "deepnote_to_be_reexecuted": false,
    "source_hash": "ee12aeb0",
    "execution_start": 1647707126291,
    "execution_millis": 14,
    "deepnote_cell_type": "code",
    "deepnote_cell_height": 329
   },
   "source": "df2 = pd.DataFrame(new_dict)\ndf2",
   "execution_count": 16,
   "outputs": [
    {
     "output_type": "execute_result",
     "execution_count": 16,
     "data": {
      "application/vnd.deepnote.dataframe.v3+json": {
       "column_count": 2,
       "row_count": 3,
       "columns": [
        {
         "name": "Fruits",
         "dtype": "object",
         "stats": {
          "unique_count": 3,
          "nan_count": 0,
          "categories": [
           {
            "name": "apple",
            "count": 1
           },
           {
            "name": "banana",
            "count": 1
           },
           {
            "name": "tomato",
            "count": 1
           }
          ]
         }
        },
        {
         "name": "Amount",
         "dtype": "int64",
         "stats": {
          "unique_count": 3,
          "nan_count": 0,
          "min": "3",
          "max": "6",
          "histogram": [
           {
            "bin_start": 3,
            "bin_end": 3.3,
            "count": 1
           },
           {
            "bin_start": 3.3,
            "bin_end": 3.6,
            "count": 0
           },
           {
            "bin_start": 3.6,
            "bin_end": 3.9,
            "count": 0
           },
           {
            "bin_start": 3.9,
            "bin_end": 4.2,
            "count": 0
           },
           {
            "bin_start": 4.2,
            "bin_end": 4.5,
            "count": 0
           },
           {
            "bin_start": 4.5,
            "bin_end": 4.8,
            "count": 0
           },
           {
            "bin_start": 4.8,
            "bin_end": 5.1,
            "count": 1
           },
           {
            "bin_start": 5.1,
            "bin_end": 5.4,
            "count": 0
           },
           {
            "bin_start": 5.4,
            "bin_end": 5.699999999999999,
            "count": 0
           },
           {
            "bin_start": 5.699999999999999,
            "bin_end": 6,
            "count": 1
           }
          ]
         }
        },
        {
         "name": "_deepnote_index_column",
         "dtype": "int64"
        }
       ],
       "rows": [
        {
         "Fruits": "apple",
         "Amount": 3,
         "_deepnote_index_column": 0
        },
        {
         "Fruits": "banana",
         "Amount": 5,
         "_deepnote_index_column": 1
        },
        {
         "Fruits": "tomato",
         "Amount": 6,
         "_deepnote_index_column": 2
        }
       ]
      },
      "text/plain": "   Fruits  Amount\n0   apple       3\n1  banana       5\n2  tomato       6",
      "text/html": "<div>\n<style scoped>\n    .dataframe tbody tr th:only-of-type {\n        vertical-align: middle;\n    }\n\n    .dataframe tbody tr th {\n        vertical-align: top;\n    }\n\n    .dataframe thead th {\n        text-align: right;\n    }\n</style>\n<table border=\"1\" class=\"dataframe\">\n  <thead>\n    <tr style=\"text-align: right;\">\n      <th></th>\n      <th>Fruits</th>\n      <th>Amount</th>\n    </tr>\n  </thead>\n  <tbody>\n    <tr>\n      <th>0</th>\n      <td>apple</td>\n      <td>3</td>\n    </tr>\n    <tr>\n      <th>1</th>\n      <td>banana</td>\n      <td>5</td>\n    </tr>\n    <tr>\n      <th>2</th>\n      <td>tomato</td>\n      <td>6</td>\n    </tr>\n  </tbody>\n</table>\n</div>"
     },
     "metadata": {}
    }
   ]
  },
  {
   "cell_type": "code",
   "metadata": {
    "cell_id": "804241e5-e602-4a88-990c-6d901fd86a22",
    "tags": [],
    "deepnote_to_be_reexecuted": false,
    "source_hash": "2577334f",
    "execution_start": 1647707126316,
    "execution_millis": 7,
    "deepnote_cell_type": "code",
    "deepnote_cell_height": 265
   },
   "source": "df3 = pd.DataFrame(data_dict, index=[0]) # we can also convert a dictionary into a data frame\n\ndf3",
   "execution_count": 17,
   "outputs": [
    {
     "output_type": "execute_result",
     "execution_count": 17,
     "data": {
      "application/vnd.deepnote.dataframe.v3+json": {
       "column_count": 3,
       "row_count": 1,
       "columns": [
        {
         "name": "Apple",
         "dtype": "object",
         "stats": {
          "unique_count": 1,
          "nan_count": 0,
          "categories": [
           {
            "name": "fruit",
            "count": 1
           }
          ]
         }
        },
        {
         "name": "Cat",
         "dtype": "object",
         "stats": {
          "unique_count": 1,
          "nan_count": 0,
          "categories": [
           {
            "name": "animal",
            "count": 1
           }
          ]
         }
        },
        {
         "name": "Putin",
         "dtype": "object",
         "stats": {
          "unique_count": 1,
          "nan_count": 0,
          "categories": [
           {
            "name": "war criminal",
            "count": 1
           }
          ]
         }
        },
        {
         "name": "_deepnote_index_column",
         "dtype": "int64"
        }
       ],
       "rows": [
        {
         "Apple": "fruit",
         "Cat": "animal",
         "Putin": "war criminal",
         "_deepnote_index_column": 0
        }
       ]
      },
      "text/plain": "   Apple     Cat         Putin\n0  fruit  animal  war criminal",
      "text/html": "<div>\n<style scoped>\n    .dataframe tbody tr th:only-of-type {\n        vertical-align: middle;\n    }\n\n    .dataframe tbody tr th {\n        vertical-align: top;\n    }\n\n    .dataframe thead th {\n        text-align: right;\n    }\n</style>\n<table border=\"1\" class=\"dataframe\">\n  <thead>\n    <tr style=\"text-align: right;\">\n      <th></th>\n      <th>Apple</th>\n      <th>Cat</th>\n      <th>Putin</th>\n    </tr>\n  </thead>\n  <tbody>\n    <tr>\n      <th>0</th>\n      <td>fruit</td>\n      <td>animal</td>\n      <td>war criminal</td>\n    </tr>\n  </tbody>\n</table>\n</div>"
     },
     "metadata": {}
    }
   ]
  },
  {
   "cell_type": "markdown",
   "source": "## 🏋️🏋️ In pairs or individually:\n\n1. Make data frames from either lists or dictionaries. Make one column city, other one population. Find data on Wikipedia.",
   "metadata": {
    "cell_id": "bb7c3335-d9a3-4198-ad3b-ba90c56f910b",
    "tags": [],
    "deepnote_cell_type": "markdown",
    "deepnote_cell_height": 144.78125
   }
  },
  {
   "cell_type": "markdown",
   "source": "## 🏋️🏋️ A solution to excercise one",
   "metadata": {
    "cell_id": "56a22553-09e5-4204-a33c-ce2fa7c05b9c",
    "tags": [],
    "deepnote_cell_type": "markdown",
    "deepnote_cell_height": 70
   }
  },
  {
   "cell_type": "code",
   "source": "populations = {\"Cities\": [\"london\", \"moscow\", \"austin\", \"maiami\"], \"Populations\": [\"8.982 million\", \"12,641,000\", \"2,176,000\", \"6,215,000\"]}",
   "metadata": {
    "cell_id": "d37f827e-0bab-4410-a186-08246db8742e",
    "tags": [],
    "deepnote_to_be_reexecuted": false,
    "source_hash": "77184a18",
    "execution_start": 1647707126325,
    "execution_millis": 3,
    "deepnote_cell_type": "code",
    "deepnote_cell_height": 81
   },
   "outputs": [],
   "execution_count": 18
  },
  {
   "cell_type": "markdown",
   "source": "As the task was to find the data on Wikipedia I simply copied and pasted what I have found. Guess what. The data I pasted was not numeric. So, I will show how I made the data frame and also how I cleaned it.",
   "metadata": {
    "cell_id": "50ea9bbc-99c3-4e0a-8862-5b81479fa6dd",
    "tags": [],
    "deepnote_cell_type": "markdown",
    "deepnote_cell_height": 97.1875
   }
  },
  {
   "cell_type": "code",
   "source": "import pandas as pd # importing just in case people want to run just this cell\npop_df = pd.DataFrame(populations) # made a data frame\npop_df #print my data frame",
   "metadata": {
    "cell_id": "1ba4dfe3-085e-40c4-8646-12bef1b226b0",
    "tags": [],
    "deepnote_to_be_reexecuted": false,
    "source_hash": "25ac603",
    "execution_start": 1647707126334,
    "execution_millis": 12,
    "deepnote_cell_type": "code",
    "deepnote_cell_height": 388
   },
   "outputs": [
    {
     "output_type": "execute_result",
     "execution_count": 19,
     "data": {
      "application/vnd.deepnote.dataframe.v3+json": {
       "column_count": 2,
       "row_count": 4,
       "columns": [
        {
         "name": "Cities",
         "dtype": "object",
         "stats": {
          "unique_count": 4,
          "nan_count": 0,
          "categories": [
           {
            "name": "london",
            "count": 1
           },
           {
            "name": "moscow",
            "count": 1
           },
           {
            "name": "2 others",
            "count": 2
           }
          ]
         }
        },
        {
         "name": "Populations",
         "dtype": "object",
         "stats": {
          "unique_count": 4,
          "nan_count": 0,
          "categories": [
           {
            "name": "8.982 million",
            "count": 1
           },
           {
            "name": "12,641,000",
            "count": 1
           },
           {
            "name": "2 others",
            "count": 2
           }
          ]
         }
        },
        {
         "name": "_deepnote_index_column",
         "dtype": "int64"
        }
       ],
       "rows": [
        {
         "Cities": "london",
         "Populations": "8.982 million",
         "_deepnote_index_column": 0
        },
        {
         "Cities": "moscow",
         "Populations": "12,641,000",
         "_deepnote_index_column": 1
        },
        {
         "Cities": "austin",
         "Populations": "2,176,000",
         "_deepnote_index_column": 2
        },
        {
         "Cities": "maiami",
         "Populations": "6,215,000",
         "_deepnote_index_column": 3
        }
       ]
      },
      "text/plain": "   Cities    Populations\n0  london  8.982 million\n1  moscow     12,641,000\n2  austin      2,176,000\n3  maiami      6,215,000",
      "text/html": "<div>\n<style scoped>\n    .dataframe tbody tr th:only-of-type {\n        vertical-align: middle;\n    }\n\n    .dataframe tbody tr th {\n        vertical-align: top;\n    }\n\n    .dataframe thead th {\n        text-align: right;\n    }\n</style>\n<table border=\"1\" class=\"dataframe\">\n  <thead>\n    <tr style=\"text-align: right;\">\n      <th></th>\n      <th>Cities</th>\n      <th>Populations</th>\n    </tr>\n  </thead>\n  <tbody>\n    <tr>\n      <th>0</th>\n      <td>london</td>\n      <td>8.982 million</td>\n    </tr>\n    <tr>\n      <th>1</th>\n      <td>moscow</td>\n      <td>12,641,000</td>\n    </tr>\n    <tr>\n      <th>2</th>\n      <td>austin</td>\n      <td>2,176,000</td>\n    </tr>\n    <tr>\n      <th>3</th>\n      <td>maiami</td>\n      <td>6,215,000</td>\n    </tr>\n  </tbody>\n</table>\n</div>"
     },
     "metadata": {}
    }
   ],
   "execution_count": 19
  },
  {
   "cell_type": "markdown",
   "source": "So, now I am going to make the data frame useful, too.",
   "metadata": {
    "cell_id": "da15bb36-e35a-40f6-a1c1-9bafc3efddaa",
    "tags": [],
    "deepnote_cell_type": "markdown",
    "deepnote_cell_height": 52.390625
   }
  },
  {
   "cell_type": "code",
   "source": "help(pd.DataFrame.dtypes) # I forgot how to use dtypes so asking Python to help",
   "metadata": {
    "cell_id": "35be132e-501b-43d6-97d9-58944ec381ec",
    "tags": [],
    "deepnote_to_be_reexecuted": false,
    "source_hash": "25f79b11",
    "execution_start": 1647707126349,
    "execution_millis": 4,
    "deepnote_cell_type": "code",
    "deepnote_cell_height": 619.34375
   },
   "outputs": [
    {
     "name": "stdout",
     "text": "Help on property:\n\n    Return the dtypes in the DataFrame.\n    \n    This returns a Series with the data type of each column.\n    The result's index is the original DataFrame's columns. Columns\n    with mixed types are stored with the ``object`` dtype. See\n    :ref:`the User Guide <basics.dtypes>` for more.\n    \n    Returns\n    -------\n    pandas.Series\n        The data type of each column.\n    \n    Examples\n    --------\n    >>> df = pd.DataFrame({'float': [1.0],\n    ...                    'int': [1],\n    ...                    'datetime': [pd.Timestamp('20180310')],\n    ...                    'string': ['foo']})\n    >>> df.dtypes\n    float              float64\n    int                  int64\n    datetime    datetime64[ns]\n    string              object\n    dtype: object\n\n",
     "output_type": "stream"
    }
   ],
   "execution_count": 20
  },
  {
   "cell_type": "code",
   "source": "pop_df.dtypes # checking the data type of all columns. All strings",
   "metadata": {
    "cell_id": "b9e71188-e38b-4fce-b2ba-e7a5f7b43408",
    "tags": [],
    "deepnote_to_be_reexecuted": false,
    "source_hash": "85c3ce8a",
    "execution_start": 1647707126382,
    "execution_millis": 5,
    "deepnote_cell_type": "code",
    "deepnote_cell_height": 156.59375,
    "deepnote_output_heights": [
     59.59375
    ]
   },
   "outputs": [
    {
     "output_type": "execute_result",
     "execution_count": 21,
     "data": {
      "text/plain": "Cities         object\nPopulations    object\ndtype: object"
     },
     "metadata": {}
    }
   ],
   "execution_count": 21
  },
  {
   "cell_type": "markdown",
   "source": "All cells in the column Populations are strings. But some also have words. I am going to try and replace the word million with 000. But first I want to use regex to see how to pick up cell with the word million in it.",
   "metadata": {
    "cell_id": "f796fe7a-7064-4485-9968-710ef4afd8cf",
    "tags": [],
    "deepnote_cell_type": "markdown",
    "deepnote_cell_height": 97.1875
   }
  },
  {
   "cell_type": "code",
   "source": "pop_df['Populations'].str.match(r'\\w')==True # all cells match \\w because , is alos \\w",
   "metadata": {
    "cell_id": "1564c0f6-6936-44e2-926d-ecf9170d4d8d",
    "tags": [],
    "deepnote_to_be_reexecuted": false,
    "source_hash": "2f3bd53c",
    "execution_start": 1647707126383,
    "execution_millis": 4,
    "deepnote_cell_type": "code",
    "deepnote_cell_height": 194.984375,
    "deepnote_output_heights": [
     97.984375
    ]
   },
   "outputs": [
    {
     "output_type": "execute_result",
     "execution_count": 22,
     "data": {
      "text/plain": "0    True\n1    True\n2    True\n3    True\nName: Populations, dtype: bool"
     },
     "metadata": {}
    }
   ],
   "execution_count": 22
  },
  {
   "cell_type": "code",
   "source": "pop_df['Populations'].str.match(r'.*million.*')==True # using regex to see",
   "metadata": {
    "cell_id": "3c1ec7f2-d8b5-4df3-bc95-22c8a61d5480",
    "tags": [],
    "deepnote_to_be_reexecuted": false,
    "source_hash": "8703a0",
    "execution_start": 1647707126384,
    "execution_millis": 5,
    "deepnote_cell_type": "code",
    "deepnote_cell_height": 194.984375,
    "deepnote_output_heights": [
     97.984375
    ]
   },
   "outputs": [
    {
     "output_type": "execute_result",
     "execution_count": 23,
     "data": {
      "text/plain": "0     True\n1    False\n2    False\n3    False\nName: Populations, dtype: bool"
     },
     "metadata": {}
    }
   ],
   "execution_count": 23
  },
  {
   "cell_type": "code",
   "source": "pop_df['Populations'] = pop_df['Populations'].str.replace('million', ', 000')",
   "metadata": {
    "cell_id": "008c0421-b5ea-47a1-944a-5d2a20a284cc",
    "tags": [],
    "deepnote_to_be_reexecuted": false,
    "source_hash": "b41bd44b",
    "execution_start": 1647707200532,
    "execution_millis": 0,
    "deepnote_cell_type": "code",
    "deepnote_cell_height": 81,
    "deepnote_output_heights": [
     97.984375
    ]
   },
   "outputs": [],
   "execution_count": 36
  },
  {
   "cell_type": "code",
   "source": "pop_df",
   "metadata": {
    "cell_id": "5df013ea-59c5-4e1d-bd73-b247d18398c9",
    "tags": [],
    "deepnote_to_be_reexecuted": false,
    "source_hash": "f3b2cf82",
    "execution_start": 1647707210179,
    "execution_millis": 137,
    "deepnote_cell_type": "code",
    "deepnote_cell_height": 352
   },
   "outputs": [
    {
     "output_type": "execute_result",
     "execution_count": 37,
     "data": {
      "application/vnd.deepnote.dataframe.v3+json": {
       "column_count": 2,
       "row_count": 4,
       "columns": [
        {
         "name": "Cities",
         "dtype": "object",
         "stats": {
          "unique_count": 4,
          "nan_count": 0,
          "categories": [
           {
            "name": "london",
            "count": 1
           },
           {
            "name": "moscow",
            "count": 1
           },
           {
            "name": "2 others",
            "count": 2
           }
          ]
         }
        },
        {
         "name": "Populations",
         "dtype": "object",
         "stats": {
          "unique_count": 4,
          "nan_count": 0,
          "categories": [
           {
            "name": "8.982 , 000",
            "count": 1
           },
           {
            "name": "12,641,000",
            "count": 1
           },
           {
            "name": "2 others",
            "count": 2
           }
          ]
         }
        },
        {
         "name": "_deepnote_index_column",
         "dtype": "int64"
        }
       ],
       "rows": [
        {
         "Cities": "london",
         "Populations": "8.982 , 000",
         "_deepnote_index_column": 0
        },
        {
         "Cities": "moscow",
         "Populations": "12,641,000",
         "_deepnote_index_column": 1
        },
        {
         "Cities": "austin",
         "Populations": "2,176,000",
         "_deepnote_index_column": 2
        },
        {
         "Cities": "maiami",
         "Populations": "6,215,000",
         "_deepnote_index_column": 3
        }
       ]
      },
      "text/plain": "   Cities  Populations\n0  london  8.982 , 000\n1  moscow   12,641,000\n2  austin    2,176,000\n3  maiami    6,215,000",
      "text/html": "<div>\n<style scoped>\n    .dataframe tbody tr th:only-of-type {\n        vertical-align: middle;\n    }\n\n    .dataframe tbody tr th {\n        vertical-align: top;\n    }\n\n    .dataframe thead th {\n        text-align: right;\n    }\n</style>\n<table border=\"1\" class=\"dataframe\">\n  <thead>\n    <tr style=\"text-align: right;\">\n      <th></th>\n      <th>Cities</th>\n      <th>Populations</th>\n    </tr>\n  </thead>\n  <tbody>\n    <tr>\n      <th>0</th>\n      <td>london</td>\n      <td>8.982 , 000</td>\n    </tr>\n    <tr>\n      <th>1</th>\n      <td>moscow</td>\n      <td>12,641,000</td>\n    </tr>\n    <tr>\n      <th>2</th>\n      <td>austin</td>\n      <td>2,176,000</td>\n    </tr>\n    <tr>\n      <th>3</th>\n      <td>maiami</td>\n      <td>6,215,000</td>\n    </tr>\n  </tbody>\n</table>\n</div>"
     },
     "metadata": {}
    }
   ],
   "execution_count": 37
  },
  {
   "cell_type": "code",
   "source": "pop_df['Populations'] = pop_df['Populations'].str.replace(' ', '')",
   "metadata": {
    "cell_id": "5075610e-845e-4a97-82a5-e186f62faea6",
    "tags": [],
    "deepnote_to_be_reexecuted": false,
    "source_hash": "187fc1aa",
    "execution_start": 1647707242273,
    "execution_millis": 5,
    "deepnote_cell_type": "code",
    "deepnote_cell_height": 81
   },
   "outputs": [],
   "execution_count": 38
  },
  {
   "cell_type": "code",
   "source": "pop_df",
   "metadata": {
    "cell_id": "14706958-d422-4f12-857c-12599c914b2d",
    "tags": [],
    "deepnote_to_be_reexecuted": false,
    "source_hash": "f3b2cf82",
    "execution_start": 1647707247838,
    "execution_millis": 352,
    "deepnote_cell_type": "code",
    "deepnote_cell_height": 352
   },
   "outputs": [
    {
     "output_type": "execute_result",
     "execution_count": 39,
     "data": {
      "application/vnd.deepnote.dataframe.v3+json": {
       "column_count": 2,
       "row_count": 4,
       "columns": [
        {
         "name": "Cities",
         "dtype": "object",
         "stats": {
          "unique_count": 4,
          "nan_count": 0,
          "categories": [
           {
            "name": "london",
            "count": 1
           },
           {
            "name": "moscow",
            "count": 1
           },
           {
            "name": "2 others",
            "count": 2
           }
          ]
         }
        },
        {
         "name": "Populations",
         "dtype": "object",
         "stats": {
          "unique_count": 4,
          "nan_count": 0,
          "categories": [
           {
            "name": "8.982,000",
            "count": 1
           },
           {
            "name": "12,641,000",
            "count": 1
           },
           {
            "name": "2 others",
            "count": 2
           }
          ]
         }
        },
        {
         "name": "_deepnote_index_column",
         "dtype": "int64"
        }
       ],
       "rows": [
        {
         "Cities": "london",
         "Populations": "8.982,000",
         "_deepnote_index_column": 0
        },
        {
         "Cities": "moscow",
         "Populations": "12,641,000",
         "_deepnote_index_column": 1
        },
        {
         "Cities": "austin",
         "Populations": "2,176,000",
         "_deepnote_index_column": 2
        },
        {
         "Cities": "maiami",
         "Populations": "6,215,000",
         "_deepnote_index_column": 3
        }
       ]
      },
      "text/plain": "   Cities Populations\n0  london   8.982,000\n1  moscow  12,641,000\n2  austin   2,176,000\n3  maiami   6,215,000",
      "text/html": "<div>\n<style scoped>\n    .dataframe tbody tr th:only-of-type {\n        vertical-align: middle;\n    }\n\n    .dataframe tbody tr th {\n        vertical-align: top;\n    }\n\n    .dataframe thead th {\n        text-align: right;\n    }\n</style>\n<table border=\"1\" class=\"dataframe\">\n  <thead>\n    <tr style=\"text-align: right;\">\n      <th></th>\n      <th>Cities</th>\n      <th>Populations</th>\n    </tr>\n  </thead>\n  <tbody>\n    <tr>\n      <th>0</th>\n      <td>london</td>\n      <td>8.982,000</td>\n    </tr>\n    <tr>\n      <th>1</th>\n      <td>moscow</td>\n      <td>12,641,000</td>\n    </tr>\n    <tr>\n      <th>2</th>\n      <td>austin</td>\n      <td>2,176,000</td>\n    </tr>\n    <tr>\n      <th>3</th>\n      <td>maiami</td>\n      <td>6,215,000</td>\n    </tr>\n  </tbody>\n</table>\n</div>"
     },
     "metadata": {}
    }
   ],
   "execution_count": 39
  },
  {
   "cell_type": "code",
   "source": "pop_df['Populations'] = pop_df['Populations'].str.replace(',', '')",
   "metadata": {
    "cell_id": "7dbf65a4-3d81-40a0-ba6d-ce3505cd43b3",
    "tags": [],
    "deepnote_to_be_reexecuted": false,
    "source_hash": "4a614814",
    "execution_start": 1647707374184,
    "execution_millis": 0,
    "deepnote_cell_type": "code",
    "deepnote_cell_height": 81
   },
   "outputs": [],
   "execution_count": 42
  },
  {
   "cell_type": "code",
   "source": "pop_df['Populations'] = pop_df['Populations'].str.replace('.', '')",
   "metadata": {
    "cell_id": "7e7096c5-82ae-4bc2-92b5-6be6132821f8",
    "tags": [],
    "deepnote_to_be_reexecuted": false,
    "source_hash": "fc2b820a",
    "execution_start": 1647707388578,
    "execution_millis": 12,
    "deepnote_cell_type": "code",
    "deepnote_cell_height": 135.71875
   },
   "outputs": [
    {
     "name": "stderr",
     "text": "/shared-libs/python3.7/py-core/lib/python3.7/site-packages/ipykernel_launcher.py:1: FutureWarning: The default value of regex will change from True to False in a future version. In addition, single character regular expressions will *not* be treated as literal strings when regex=True.\n  \"\"\"Entry point for launching an IPython kernel.\n",
     "output_type": "stream"
    }
   ],
   "execution_count": 45
  },
  {
   "cell_type": "code",
   "source": "pop_df",
   "metadata": {
    "cell_id": "db0adab3-d40f-4d46-8020-1437b6a5f7e5",
    "tags": [],
    "deepnote_to_be_reexecuted": false,
    "source_hash": "f3b2cf82",
    "execution_start": 1647707383796,
    "execution_millis": 422,
    "deepnote_cell_type": "code",
    "deepnote_cell_height": 352
   },
   "outputs": [
    {
     "output_type": "execute_result",
     "execution_count": 44,
     "data": {
      "application/vnd.deepnote.dataframe.v3+json": {
       "column_count": 2,
       "row_count": 4,
       "columns": [
        {
         "name": "Cities",
         "dtype": "object",
         "stats": {
          "unique_count": 4,
          "nan_count": 0,
          "categories": [
           {
            "name": "london",
            "count": 1
           },
           {
            "name": "moscow",
            "count": 1
           },
           {
            "name": "2 others",
            "count": 2
           }
          ]
         }
        },
        {
         "name": "Populations",
         "dtype": "object",
         "stats": {
          "unique_count": 4,
          "nan_count": 0,
          "categories": [
           {
            "name": "8982000",
            "count": 1
           },
           {
            "name": "12641000",
            "count": 1
           },
           {
            "name": "2 others",
            "count": 2
           }
          ]
         }
        },
        {
         "name": "_deepnote_index_column",
         "dtype": "int64"
        }
       ],
       "rows": [
        {
         "Cities": "london",
         "Populations": "8982000",
         "_deepnote_index_column": 0
        },
        {
         "Cities": "moscow",
         "Populations": "12641000",
         "_deepnote_index_column": 1
        },
        {
         "Cities": "austin",
         "Populations": "2176000",
         "_deepnote_index_column": 2
        },
        {
         "Cities": "maiami",
         "Populations": "6215000",
         "_deepnote_index_column": 3
        }
       ]
      },
      "text/plain": "   Cities Populations\n0  london     8982000\n1  moscow    12641000\n2  austin     2176000\n3  maiami     6215000",
      "text/html": "<div>\n<style scoped>\n    .dataframe tbody tr th:only-of-type {\n        vertical-align: middle;\n    }\n\n    .dataframe tbody tr th {\n        vertical-align: top;\n    }\n\n    .dataframe thead th {\n        text-align: right;\n    }\n</style>\n<table border=\"1\" class=\"dataframe\">\n  <thead>\n    <tr style=\"text-align: right;\">\n      <th></th>\n      <th>Cities</th>\n      <th>Populations</th>\n    </tr>\n  </thead>\n  <tbody>\n    <tr>\n      <th>0</th>\n      <td>london</td>\n      <td>8982000</td>\n    </tr>\n    <tr>\n      <th>1</th>\n      <td>moscow</td>\n      <td>12641000</td>\n    </tr>\n    <tr>\n      <th>2</th>\n      <td>austin</td>\n      <td>2176000</td>\n    </tr>\n    <tr>\n      <th>3</th>\n      <td>maiami</td>\n      <td>6215000</td>\n    </tr>\n  </tbody>\n</table>\n</div>"
     },
     "metadata": {}
    }
   ],
   "execution_count": 44
  },
  {
   "cell_type": "code",
   "source": "pop_df['Populations'] = pop_df['Populations'].astype(int)",
   "metadata": {
    "cell_id": "b01f8b26-208d-4024-9fc3-7a1db8f1db29",
    "tags": [],
    "deepnote_to_be_reexecuted": false,
    "source_hash": "431c79c",
    "execution_start": 1647707629648,
    "execution_millis": 2,
    "deepnote_cell_type": "code",
    "deepnote_cell_height": 81
   },
   "outputs": [],
   "execution_count": 51
  },
  {
   "cell_type": "code",
   "source": "pop_df",
   "metadata": {
    "cell_id": "c8f9d057-6af4-412b-ab62-2a6b2b241c56",
    "tags": [],
    "deepnote_to_be_reexecuted": false,
    "source_hash": "f3b2cf82",
    "execution_start": 1647707442006,
    "execution_millis": 7,
    "deepnote_cell_type": "code",
    "deepnote_cell_height": 352
   },
   "outputs": [
    {
     "output_type": "execute_result",
     "execution_count": 47,
     "data": {
      "application/vnd.deepnote.dataframe.v3+json": {
       "column_count": 2,
       "row_count": 4,
       "columns": [
        {
         "name": "Cities",
         "dtype": "object",
         "stats": {
          "unique_count": 4,
          "nan_count": 0,
          "categories": [
           {
            "name": "london",
            "count": 1
           },
           {
            "name": "moscow",
            "count": 1
           },
           {
            "name": "2 others",
            "count": 2
           }
          ]
         }
        },
        {
         "name": "Populations",
         "dtype": "int64",
         "stats": {
          "unique_count": 4,
          "nan_count": 0,
          "min": "2176000",
          "max": "12641000",
          "histogram": [
           {
            "bin_start": 2176000,
            "bin_end": 3222500,
            "count": 1
           },
           {
            "bin_start": 3222500,
            "bin_end": 4269000,
            "count": 0
           },
           {
            "bin_start": 4269000,
            "bin_end": 5315500,
            "count": 0
           },
           {
            "bin_start": 5315500,
            "bin_end": 6362000,
            "count": 1
           },
           {
            "bin_start": 6362000,
            "bin_end": 7408500,
            "count": 0
           },
           {
            "bin_start": 7408500,
            "bin_end": 8455000,
            "count": 0
           },
           {
            "bin_start": 8455000,
            "bin_end": 9501500,
            "count": 1
           },
           {
            "bin_start": 9501500,
            "bin_end": 10548000,
            "count": 0
           },
           {
            "bin_start": 10548000,
            "bin_end": 11594500,
            "count": 0
           },
           {
            "bin_start": 11594500,
            "bin_end": 12641000,
            "count": 1
           }
          ]
         }
        },
        {
         "name": "_deepnote_index_column",
         "dtype": "int64"
        }
       ],
       "rows": [
        {
         "Cities": "london",
         "Populations": 8982000,
         "_deepnote_index_column": 0
        },
        {
         "Cities": "moscow",
         "Populations": 12641000,
         "_deepnote_index_column": 1
        },
        {
         "Cities": "austin",
         "Populations": 2176000,
         "_deepnote_index_column": 2
        },
        {
         "Cities": "maiami",
         "Populations": 6215000,
         "_deepnote_index_column": 3
        }
       ]
      },
      "text/plain": "   Cities  Populations\n0  london      8982000\n1  moscow     12641000\n2  austin      2176000\n3  maiami      6215000",
      "text/html": "<div>\n<style scoped>\n    .dataframe tbody tr th:only-of-type {\n        vertical-align: middle;\n    }\n\n    .dataframe tbody tr th {\n        vertical-align: top;\n    }\n\n    .dataframe thead th {\n        text-align: right;\n    }\n</style>\n<table border=\"1\" class=\"dataframe\">\n  <thead>\n    <tr style=\"text-align: right;\">\n      <th></th>\n      <th>Cities</th>\n      <th>Populations</th>\n    </tr>\n  </thead>\n  <tbody>\n    <tr>\n      <th>0</th>\n      <td>london</td>\n      <td>8982000</td>\n    </tr>\n    <tr>\n      <th>1</th>\n      <td>moscow</td>\n      <td>12641000</td>\n    </tr>\n    <tr>\n      <th>2</th>\n      <td>austin</td>\n      <td>2176000</td>\n    </tr>\n    <tr>\n      <th>3</th>\n      <td>maiami</td>\n      <td>6215000</td>\n    </tr>\n  </tbody>\n</table>\n</div>"
     },
     "metadata": {}
    }
   ],
   "execution_count": 47
  },
  {
   "cell_type": "markdown",
   "source": "> I am going to use `.apply()` and lambda to capitalise every name of a city. The method `.capitalise()` only works in pure Python, Pandas does not have an equivalne, so I have to.",
   "metadata": {
    "cell_id": "0c3dad25-a40b-4a23-a91a-2da29bb0169d",
    "tags": [],
    "deepnote_cell_type": "markdown",
    "deepnote_cell_height": 111.1875
   }
  },
  {
   "cell_type": "code",
   "source": "pop_df['Cities'] = pop_df['Cities'].apply(lambda name: name.capitalize())",
   "metadata": {
    "cell_id": "09ec669c-e6ec-4620-a8e6-872c6d289475",
    "tags": [],
    "deepnote_to_be_reexecuted": false,
    "source_hash": "419edcb5",
    "execution_start": 1647707775661,
    "execution_millis": 5,
    "deepnote_cell_type": "code",
    "deepnote_cell_height": 81
   },
   "outputs": [],
   "execution_count": 54
  },
  {
   "cell_type": "code",
   "source": "pop_df",
   "metadata": {
    "cell_id": "23659497-c3cc-4c70-a872-ff75f9111bee",
    "tags": [],
    "deepnote_to_be_reexecuted": false,
    "source_hash": "f3b2cf82",
    "execution_start": 1647707782471,
    "execution_millis": 9,
    "deepnote_cell_type": "code",
    "deepnote_cell_height": 352
   },
   "outputs": [
    {
     "output_type": "execute_result",
     "execution_count": 55,
     "data": {
      "application/vnd.deepnote.dataframe.v3+json": {
       "column_count": 2,
       "row_count": 4,
       "columns": [
        {
         "name": "Cities",
         "dtype": "object",
         "stats": {
          "unique_count": 4,
          "nan_count": 0,
          "categories": [
           {
            "name": "London",
            "count": 1
           },
           {
            "name": "Moscow",
            "count": 1
           },
           {
            "name": "2 others",
            "count": 2
           }
          ]
         }
        },
        {
         "name": "Populations",
         "dtype": "int64",
         "stats": {
          "unique_count": 4,
          "nan_count": 0,
          "min": "2176000",
          "max": "12641000",
          "histogram": [
           {
            "bin_start": 2176000,
            "bin_end": 3222500,
            "count": 1
           },
           {
            "bin_start": 3222500,
            "bin_end": 4269000,
            "count": 0
           },
           {
            "bin_start": 4269000,
            "bin_end": 5315500,
            "count": 0
           },
           {
            "bin_start": 5315500,
            "bin_end": 6362000,
            "count": 1
           },
           {
            "bin_start": 6362000,
            "bin_end": 7408500,
            "count": 0
           },
           {
            "bin_start": 7408500,
            "bin_end": 8455000,
            "count": 0
           },
           {
            "bin_start": 8455000,
            "bin_end": 9501500,
            "count": 1
           },
           {
            "bin_start": 9501500,
            "bin_end": 10548000,
            "count": 0
           },
           {
            "bin_start": 10548000,
            "bin_end": 11594500,
            "count": 0
           },
           {
            "bin_start": 11594500,
            "bin_end": 12641000,
            "count": 1
           }
          ]
         }
        },
        {
         "name": "_deepnote_index_column",
         "dtype": "int64"
        }
       ],
       "rows": [
        {
         "Cities": "London",
         "Populations": 8982000,
         "_deepnote_index_column": 0
        },
        {
         "Cities": "Moscow",
         "Populations": 12641000,
         "_deepnote_index_column": 1
        },
        {
         "Cities": "Austin",
         "Populations": 2176000,
         "_deepnote_index_column": 2
        },
        {
         "Cities": "Maiami",
         "Populations": 6215000,
         "_deepnote_index_column": 3
        }
       ]
      },
      "text/plain": "   Cities  Populations\n0  London      8982000\n1  Moscow     12641000\n2  Austin      2176000\n3  Maiami      6215000",
      "text/html": "<div>\n<style scoped>\n    .dataframe tbody tr th:only-of-type {\n        vertical-align: middle;\n    }\n\n    .dataframe tbody tr th {\n        vertical-align: top;\n    }\n\n    .dataframe thead th {\n        text-align: right;\n    }\n</style>\n<table border=\"1\" class=\"dataframe\">\n  <thead>\n    <tr style=\"text-align: right;\">\n      <th></th>\n      <th>Cities</th>\n      <th>Populations</th>\n    </tr>\n  </thead>\n  <tbody>\n    <tr>\n      <th>0</th>\n      <td>London</td>\n      <td>8982000</td>\n    </tr>\n    <tr>\n      <th>1</th>\n      <td>Moscow</td>\n      <td>12641000</td>\n    </tr>\n    <tr>\n      <th>2</th>\n      <td>Austin</td>\n      <td>2176000</td>\n    </tr>\n    <tr>\n      <th>3</th>\n      <td>Maiami</td>\n      <td>6215000</td>\n    </tr>\n  </tbody>\n</table>\n</div>"
     },
     "metadata": {}
    }
   ],
   "execution_count": 55
  },
  {
   "cell_type": "code",
   "source": "fig = pop_df.plot.bar(x='Cities', y='Populations', color=['cyan','yellow'], title='Populations')",
   "metadata": {
    "cell_id": "c90edb78-abbd-4bc8-ac7c-c085a77c1d40",
    "tags": [],
    "deepnote_to_be_reexecuted": false,
    "source_hash": "6cf92da",
    "execution_start": 1647708014120,
    "execution_millis": 229,
    "deepnote_cell_type": "code",
    "deepnote_cell_height": 407,
    "deepnote_output_heights": [
     310,
     254
    ]
   },
   "outputs": [
    {
     "data": {
      "text/plain": "<Figure size 432x288 with 1 Axes>",
      "image/png": "[encoded data removed]"
     },
     "metadata": {
      "needs_background": "light",
      "image/png": {
       "width": 372,
       "height": 308
      }
     },
     "output_type": "display_data"
    }
   ],
   "execution_count": 58
  },
  {
   "cell_type": "markdown",
   "source": "> A final touch would be to sort by populaion and chart after",
   "metadata": {
    "cell_id": "164af993-8450-4724-8e61-5d9bfba3adfd",
    "tags": [],
    "deepnote_cell_type": "markdown",
    "deepnote_cell_height": 66.390625
   }
  },
  {
   "cell_type": "code",
   "source": "pop_df = pop_df.sort_values('Populations')",
   "metadata": {
    "cell_id": "6532c60c-76a9-4404-b654-694d79972c98",
    "tags": [],
    "deepnote_to_be_reexecuted": false,
    "source_hash": "a9774c7d",
    "execution_start": 1647708115628,
    "execution_millis": 1,
    "deepnote_cell_type": "code",
    "deepnote_cell_height": 81
   },
   "outputs": [],
   "execution_count": 59
  },
  {
   "cell_type": "code",
   "source": "fig = pop_df.plot.bar(x='Cities', y='Populations', color=['gold','deepskyblue'], title='Populations')",
   "metadata": {
    "cell_id": "8f90ccbb-e464-43ea-b8c2-914065738d00",
    "tags": [],
    "deepnote_to_be_reexecuted": false,
    "source_hash": "574229c0",
    "execution_start": 1647708176280,
    "execution_millis": 173,
    "deepnote_cell_type": "code",
    "deepnote_cell_height": 66
   },
   "outputs": [
    {
     "data": {
      "text/plain": "<Figure size 432x288 with 1 Axes>",
      "image/png": "[encoded data removed]"
     },
     "metadata": {
      "needs_background": "light",
      "image/png": {
       "width": 372,
       "height": 308
      }
     },
     "output_type": "display_data"
    }
   ],
   "execution_count": 60
  },
  {
   "cell_type": "markdown",
   "source": "# Part 2. Functions and lamdas in Pandas\n\nThe easiest way to put Pandas and functions together is to look at Pandas method `.apply()`",
   "metadata": {
    "cell_id": "0aa47d38-3f69-42bb-a312-e615dd4ea56d",
    "tags": [],
    "deepnote_cell_type": "markdown",
    "deepnote_cell_height": 194.78125
   }
  },
  {
   "cell_type": "code",
   "metadata": {
    "cell_id": "2da36bdb-5306-437e-abe7-9f463d4e65c5",
    "tags": [],
    "deepnote_to_be_reexecuted": false,
    "source_hash": "caa55e2e",
    "execution_start": 1647707126389,
    "execution_millis": 9,
    "deepnote_cell_type": "code",
    "deepnote_cell_height": 311
   },
   "source": "df2",
   "execution_count": 24,
   "outputs": [
    {
     "output_type": "execute_result",
     "execution_count": 24,
     "data": {
      "application/vnd.deepnote.dataframe.v3+json": {
       "column_count": 2,
       "row_count": 3,
       "columns": [
        {
         "name": "Fruits",
         "dtype": "object",
         "stats": {
          "unique_count": 3,
          "nan_count": 0,
          "categories": [
           {
            "name": "apple",
            "count": 1
           },
           {
            "name": "banana",
            "count": 1
           },
           {
            "name": "tomato",
            "count": 1
           }
          ]
         }
        },
        {
         "name": "Amount",
         "dtype": "int64",
         "stats": {
          "unique_count": 3,
          "nan_count": 0,
          "min": "3",
          "max": "6",
          "histogram": [
           {
            "bin_start": 3,
            "bin_end": 3.3,
            "count": 1
           },
           {
            "bin_start": 3.3,
            "bin_end": 3.6,
            "count": 0
           },
           {
            "bin_start": 3.6,
            "bin_end": 3.9,
            "count": 0
           },
           {
            "bin_start": 3.9,
            "bin_end": 4.2,
            "count": 0
           },
           {
            "bin_start": 4.2,
            "bin_end": 4.5,
            "count": 0
           },
           {
            "bin_start": 4.5,
            "bin_end": 4.8,
            "count": 0
           },
           {
            "bin_start": 4.8,
            "bin_end": 5.1,
            "count": 1
           },
           {
            "bin_start": 5.1,
            "bin_end": 5.4,
            "count": 0
           },
           {
            "bin_start": 5.4,
            "bin_end": 5.699999999999999,
            "count": 0
           },
           {
            "bin_start": 5.699999999999999,
            "bin_end": 6,
            "count": 1
           }
          ]
         }
        },
        {
         "name": "_deepnote_index_column",
         "dtype": "int64"
        }
       ],
       "rows": [
        {
         "Fruits": "apple",
         "Amount": 3,
         "_deepnote_index_column": 0
        },
        {
         "Fruits": "banana",
         "Amount": 5,
         "_deepnote_index_column": 1
        },
        {
         "Fruits": "tomato",
         "Amount": 6,
         "_deepnote_index_column": 2
        }
       ]
      },
      "text/plain": "   Fruits  Amount\n0   apple       3\n1  banana       5\n2  tomato       6",
      "text/html": "<div>\n<style scoped>\n    .dataframe tbody tr th:only-of-type {\n        vertical-align: middle;\n    }\n\n    .dataframe tbody tr th {\n        vertical-align: top;\n    }\n\n    .dataframe thead th {\n        text-align: right;\n    }\n</style>\n<table border=\"1\" class=\"dataframe\">\n  <thead>\n    <tr style=\"text-align: right;\">\n      <th></th>\n      <th>Fruits</th>\n      <th>Amount</th>\n    </tr>\n  </thead>\n  <tbody>\n    <tr>\n      <th>0</th>\n      <td>apple</td>\n      <td>3</td>\n    </tr>\n    <tr>\n      <th>1</th>\n      <td>banana</td>\n      <td>5</td>\n    </tr>\n    <tr>\n      <th>2</th>\n      <td>tomato</td>\n      <td>6</td>\n    </tr>\n  </tbody>\n</table>\n</div>"
     },
     "metadata": {}
    }
   ]
  },
  {
   "cell_type": "code",
   "metadata": {
    "cell_id": "d2092533-4579-47cd-873f-de4c0688cd4e",
    "tags": [],
    "deepnote_to_be_reexecuted": false,
    "source_hash": "6932ca5f",
    "execution_start": 1647707126401,
    "execution_millis": 5,
    "deepnote_cell_type": "code",
    "deepnote_cell_height": 175.78125,
    "deepnote_output_heights": [
     78.78125
    ]
   },
   "source": "df2['Fruits'].apply(lambda fruit: fruit[::-1])",
   "execution_count": 25,
   "outputs": [
    {
     "output_type": "execute_result",
     "execution_count": 25,
     "data": {
      "text/plain": "0     elppa\n1    ananab\n2    otamot\nName: Fruits, dtype: object"
     },
     "metadata": {}
    }
   ]
  },
  {
   "cell_type": "code",
   "metadata": {
    "cell_id": "9cbd1ea6-0b96-4e6e-b784-39ba80db6edb",
    "tags": [],
    "deepnote_to_be_reexecuted": false,
    "source_hash": "1d7163e5",
    "execution_start": 1647707126447,
    "execution_millis": 75833635,
    "deepnote_cell_type": "code",
    "deepnote_cell_height": 99
   },
   "source": "def multiply(val):\n    return val*3",
   "execution_count": 26,
   "outputs": []
  },
  {
   "cell_type": "code",
   "metadata": {
    "cell_id": "c0f2c782-4495-455a-a649-f4f885649446",
    "tags": [],
    "deepnote_to_be_reexecuted": false,
    "source_hash": "d561d9ac",
    "execution_start": 1647707126448,
    "execution_millis": 4,
    "deepnote_cell_type": "code",
    "deepnote_cell_height": 329
   },
   "source": "df2['New Amount'] = df2['Amount'].apply(multiply)\ndf2",
   "execution_count": 27,
   "outputs": [
    {
     "output_type": "execute_result",
     "execution_count": 27,
     "data": {
      "application/vnd.deepnote.dataframe.v3+json": {
       "column_count": 3,
       "row_count": 3,
       "columns": [
        {
         "name": "Fruits",
         "dtype": "object",
         "stats": {
          "unique_count": 3,
          "nan_count": 0,
          "categories": [
           {
            "name": "apple",
            "count": 1
           },
           {
            "name": "banana",
            "count": 1
           },
           {
            "name": "tomato",
            "count": 1
           }
          ]
         }
        },
        {
         "name": "Amount",
         "dtype": "int64",
         "stats": {
          "unique_count": 3,
          "nan_count": 0,
          "min": "3",
          "max": "6",
          "histogram": [
           {
            "bin_start": 3,
            "bin_end": 3.3,
            "count": 1
           },
           {
            "bin_start": 3.3,
            "bin_end": 3.6,
            "count": 0
           },
           {
            "bin_start": 3.6,
            "bin_end": 3.9,
            "count": 0
           },
           {
            "bin_start": 3.9,
            "bin_end": 4.2,
            "count": 0
           },
           {
            "bin_start": 4.2,
            "bin_end": 4.5,
            "count": 0
           },
           {
            "bin_start": 4.5,
            "bin_end": 4.8,
            "count": 0
           },
           {
            "bin_start": 4.8,
            "bin_end": 5.1,
            "count": 1
           },
           {
            "bin_start": 5.1,
            "bin_end": 5.4,
            "count": 0
           },
           {
            "bin_start": 5.4,
            "bin_end": 5.699999999999999,
            "count": 0
           },
           {
            "bin_start": 5.699999999999999,
            "bin_end": 6,
            "count": 1
           }
          ]
         }
        },
        {
         "name": "New Amount",
         "dtype": "int64",
         "stats": {
          "unique_count": 3,
          "nan_count": 0,
          "min": "9",
          "max": "18",
          "histogram": [
           {
            "bin_start": 9,
            "bin_end": 9.9,
            "count": 1
           },
           {
            "bin_start": 9.9,
            "bin_end": 10.8,
            "count": 0
           },
           {
            "bin_start": 10.8,
            "bin_end": 11.7,
            "count": 0
           },
           {
            "bin_start": 11.7,
            "bin_end": 12.6,
            "count": 0
           },
           {
            "bin_start": 12.6,
            "bin_end": 13.5,
            "count": 0
           },
           {
            "bin_start": 13.5,
            "bin_end": 14.4,
            "count": 0
           },
           {
            "bin_start": 14.4,
            "bin_end": 15.3,
            "count": 1
           },
           {
            "bin_start": 15.3,
            "bin_end": 16.2,
            "count": 0
           },
           {
            "bin_start": 16.2,
            "bin_end": 17.1,
            "count": 0
           },
           {
            "bin_start": 17.1,
            "bin_end": 18,
            "count": 1
           }
          ]
         }
        },
        {
         "name": "_deepnote_index_column",
         "dtype": "int64"
        }
       ],
       "rows": [
        {
         "Fruits": "apple",
         "Amount": 3,
         "New Amount": 9,
         "_deepnote_index_column": 0
        },
        {
         "Fruits": "banana",
         "Amount": 5,
         "New Amount": 15,
         "_deepnote_index_column": 1
        },
        {
         "Fruits": "tomato",
         "Amount": 6,
         "New Amount": 18,
         "_deepnote_index_column": 2
        }
       ]
      },
      "text/plain": "   Fruits  Amount  New Amount\n0   apple       3           9\n1  banana       5          15\n2  tomato       6          18",
      "text/html": "<div>\n<style scoped>\n    .dataframe tbody tr th:only-of-type {\n        vertical-align: middle;\n    }\n\n    .dataframe tbody tr th {\n        vertical-align: top;\n    }\n\n    .dataframe thead th {\n        text-align: right;\n    }\n</style>\n<table border=\"1\" class=\"dataframe\">\n  <thead>\n    <tr style=\"text-align: right;\">\n      <th></th>\n      <th>Fruits</th>\n      <th>Amount</th>\n      <th>New Amount</th>\n    </tr>\n  </thead>\n  <tbody>\n    <tr>\n      <th>0</th>\n      <td>apple</td>\n      <td>3</td>\n      <td>9</td>\n    </tr>\n    <tr>\n      <th>1</th>\n      <td>banana</td>\n      <td>5</td>\n      <td>15</td>\n    </tr>\n    <tr>\n      <th>2</th>\n      <td>tomato</td>\n      <td>6</td>\n      <td>18</td>\n    </tr>\n  </tbody>\n</table>\n</div>"
     },
     "metadata": {}
    }
   ]
  },
  {
   "cell_type": "markdown",
   "source": "### We can use lambda function as the first parameter to `.apply()`",
   "metadata": {
    "cell_id": "3999b3f5-712f-47e7-8c30-9f502127a1b8",
    "tags": [],
    "deepnote_cell_type": "markdown",
    "deepnote_cell_height": 94.328125
   }
  },
  {
   "cell_type": "code",
   "metadata": {
    "cell_id": "d16f3232-3980-48bb-bef6-c6b40c22f61e",
    "tags": [],
    "deepnote_to_be_reexecuted": false,
    "source_hash": "c35cdf41",
    "execution_start": 1647707126449,
    "execution_millis": 7,
    "deepnote_cell_type": "code",
    "deepnote_cell_height": 329
   },
   "source": "df2['Fruits'] = df2['Fruits'].apply(lambda name: name.upper())\ndf2",
   "execution_count": 28,
   "outputs": [
    {
     "output_type": "execute_result",
     "execution_count": 28,
     "data": {
      "application/vnd.deepnote.dataframe.v3+json": {
       "column_count": 3,
       "row_count": 3,
       "columns": [
        {
         "name": "Fruits",
         "dtype": "object",
         "stats": {
          "unique_count": 3,
          "nan_count": 0,
          "categories": [
           {
            "name": "APPLE",
            "count": 1
           },
           {
            "name": "BANANA",
            "count": 1
           },
           {
            "name": "TOMATO",
            "count": 1
           }
          ]
         }
        },
        {
         "name": "Amount",
         "dtype": "int64",
         "stats": {
          "unique_count": 3,
          "nan_count": 0,
          "min": "3",
          "max": "6",
          "histogram": [
           {
            "bin_start": 3,
            "bin_end": 3.3,
            "count": 1
           },
           {
            "bin_start": 3.3,
            "bin_end": 3.6,
            "count": 0
           },
           {
            "bin_start": 3.6,
            "bin_end": 3.9,
            "count": 0
           },
           {
            "bin_start": 3.9,
            "bin_end": 4.2,
            "count": 0
           },
           {
            "bin_start": 4.2,
            "bin_end": 4.5,
            "count": 0
           },
           {
            "bin_start": 4.5,
            "bin_end": 4.8,
            "count": 0
           },
           {
            "bin_start": 4.8,
            "bin_end": 5.1,
            "count": 1
           },
           {
            "bin_start": 5.1,
            "bin_end": 5.4,
            "count": 0
           },
           {
            "bin_start": 5.4,
            "bin_end": 5.699999999999999,
            "count": 0
           },
           {
            "bin_start": 5.699999999999999,
            "bin_end": 6,
            "count": 1
           }
          ]
         }
        },
        {
         "name": "New Amount",
         "dtype": "int64",
         "stats": {
          "unique_count": 3,
          "nan_count": 0,
          "min": "9",
          "max": "18",
          "histogram": [
           {
            "bin_start": 9,
            "bin_end": 9.9,
            "count": 1
           },
           {
            "bin_start": 9.9,
            "bin_end": 10.8,
            "count": 0
           },
           {
            "bin_start": 10.8,
            "bin_end": 11.7,
            "count": 0
           },
           {
            "bin_start": 11.7,
            "bin_end": 12.6,
            "count": 0
           },
           {
            "bin_start": 12.6,
            "bin_end": 13.5,
            "count": 0
           },
           {
            "bin_start": 13.5,
            "bin_end": 14.4,
            "count": 0
           },
           {
            "bin_start": 14.4,
            "bin_end": 15.3,
            "count": 1
           },
           {
            "bin_start": 15.3,
            "bin_end": 16.2,
            "count": 0
           },
           {
            "bin_start": 16.2,
            "bin_end": 17.1,
            "count": 0
           },
           {
            "bin_start": 17.1,
            "bin_end": 18,
            "count": 1
           }
          ]
         }
        },
        {
         "name": "_deepnote_index_column",
         "dtype": "int64"
        }
       ],
       "rows": [
        {
         "Fruits": "APPLE",
         "Amount": 3,
         "New Amount": 9,
         "_deepnote_index_column": 0
        },
        {
         "Fruits": "BANANA",
         "Amount": 5,
         "New Amount": 15,
         "_deepnote_index_column": 1
        },
        {
         "Fruits": "TOMATO",
         "Amount": 6,
         "New Amount": 18,
         "_deepnote_index_column": 2
        }
       ]
      },
      "text/plain": "   Fruits  Amount  New Amount\n0   APPLE       3           9\n1  BANANA       5          15\n2  TOMATO       6          18",
      "text/html": "<div>\n<style scoped>\n    .dataframe tbody tr th:only-of-type {\n        vertical-align: middle;\n    }\n\n    .dataframe tbody tr th {\n        vertical-align: top;\n    }\n\n    .dataframe thead th {\n        text-align: right;\n    }\n</style>\n<table border=\"1\" class=\"dataframe\">\n  <thead>\n    <tr style=\"text-align: right;\">\n      <th></th>\n      <th>Fruits</th>\n      <th>Amount</th>\n      <th>New Amount</th>\n    </tr>\n  </thead>\n  <tbody>\n    <tr>\n      <th>0</th>\n      <td>APPLE</td>\n      <td>3</td>\n      <td>9</td>\n    </tr>\n    <tr>\n      <th>1</th>\n      <td>BANANA</td>\n      <td>5</td>\n      <td>15</td>\n    </tr>\n    <tr>\n      <th>2</th>\n      <td>TOMATO</td>\n      <td>6</td>\n      <td>18</td>\n    </tr>\n  </tbody>\n</table>\n</div>"
     },
     "metadata": {}
    }
   ]
  },
  {
   "cell_type": "code",
   "metadata": {
    "cell_id": "9dc7867a-ea88-439b-b8e0-c275e0609f7f",
    "tags": [],
    "deepnote_to_be_reexecuted": false,
    "source_hash": "9b82ee11",
    "execution_start": 1647707126457,
    "execution_millis": 75833597,
    "deepnote_cell_type": "code",
    "deepnote_cell_height": 81
   },
   "source": "import pandas as pd",
   "execution_count": 29,
   "outputs": []
  },
  {
   "cell_type": "code",
   "metadata": {
    "cell_id": "8c1a46f4-1b5f-4189-bc25-84eaddc70c43",
    "tags": [],
    "deepnote_to_be_reexecuted": false,
    "source_hash": "c5f4fd16",
    "execution_start": 1647707126502,
    "execution_millis": 1,
    "deepnote_cell_type": "code",
    "deepnote_cell_height": 81
   },
   "source": "df = pd.read_csv('nba.csv')",
   "execution_count": 30,
   "outputs": []
  },
  {
   "cell_type": "code",
   "metadata": {
    "cell_id": "3797974b-0966-4b32-ace6-8bc576fe8bb3",
    "tags": [],
    "deepnote_to_be_reexecuted": false,
    "source_hash": "f804c160",
    "execution_start": 1647707126503,
    "execution_millis": 13,
    "deepnote_cell_type": "code",
    "deepnote_cell_height": 598
   },
   "source": "df",
   "execution_count": 31,
   "outputs": [
    {
     "output_type": "execute_result",
     "execution_count": 31,
     "data": {
      "application/vnd.deepnote.dataframe.v3+json": {
       "column_count": 9,
       "row_count": 458,
       "columns": [
        {
         "name": "Name",
         "dtype": "object",
         "stats": {
          "unique_count": 457,
          "nan_count": 1,
          "categories": [
           {
            "name": "Avery Bradley",
            "count": 1
           },
           {
            "name": "456 others",
            "count": 456
           },
           {
            "name": "Missing",
            "count": 1
           }
          ]
         }
        },
        {
         "name": "Team",
         "dtype": "object",
         "stats": {
          "unique_count": 30,
          "nan_count": 1,
          "categories": [
           {
            "name": "New Orleans Pelicans",
            "count": 19
           },
           {
            "name": "29 others",
            "count": 438
           },
           {
            "name": "Missing",
            "count": 1
           }
          ]
         }
        },
        {
         "name": "Number",
         "dtype": "float64",
         "stats": {
          "unique_count": 53,
          "nan_count": 1,
          "min": "0.0",
          "max": "99.0",
          "histogram": [
           {
            "bin_start": 0,
            "bin_end": 9.9,
            "count": 178
           },
           {
            "bin_start": 9.9,
            "bin_end": 19.8,
            "count": 100
           },
           {
            "bin_start": 19.8,
            "bin_end": 29.700000000000003,
            "count": 77
           },
           {
            "bin_start": 29.700000000000003,
            "bin_end": 39.6,
            "count": 55
           },
           {
            "bin_start": 39.6,
            "bin_end": 49.5,
            "count": 29
           },
           {
            "bin_start": 49.5,
            "bin_end": 59.400000000000006,
            "count": 11
           },
           {
            "bin_start": 59.400000000000006,
            "bin_end": 69.3,
            "count": 0
           },
           {
            "bin_start": 69.3,
            "bin_end": 79.2,
            "count": 2
           },
           {
            "bin_start": 79.2,
            "bin_end": 89.10000000000001,
            "count": 1
           },
           {
            "bin_start": 89.10000000000001,
            "bin_end": 99,
            "count": 4
           }
          ]
         }
        },
        {
         "name": "Position",
         "dtype": "object",
         "stats": {
          "unique_count": 5,
          "nan_count": 1,
          "categories": [
           {
            "name": "SG",
            "count": 102
           },
           {
            "name": "4 others",
            "count": 355
           },
           {
            "name": "Missing",
            "count": 1
           }
          ]
         }
        },
        {
         "name": "Age",
         "dtype": "float64",
         "stats": {
          "unique_count": 22,
          "nan_count": 1,
          "min": "19.0",
          "max": "40.0",
          "histogram": [
           {
            "bin_start": 19,
            "bin_end": 21.1,
            "count": 40
           },
           {
            "bin_start": 21.1,
            "bin_end": 23.2,
            "count": 67
           },
           {
            "bin_start": 23.2,
            "bin_end": 25.3,
            "count": 92
           },
           {
            "bin_start": 25.3,
            "bin_end": 27.4,
            "count": 77
           },
           {
            "bin_start": 27.4,
            "bin_end": 29.5,
            "count": 59
           },
           {
            "bin_start": 29.5,
            "bin_end": 31.6,
            "count": 53
           },
           {
            "bin_start": 31.6,
            "bin_end": 33.7,
            "count": 27
           },
           {
            "bin_start": 33.7,
            "bin_end": 35.8,
            "count": 19
           },
           {
            "bin_start": 35.8,
            "bin_end": 37.900000000000006,
            "count": 14
           },
           {
            "bin_start": 37.900000000000006,
            "bin_end": 40,
            "count": 9
           }
          ]
         }
        },
        {
         "name": "Height",
         "dtype": "object",
         "stats": {
          "unique_count": 18,
          "nan_count": 1,
          "categories": [
           {
            "name": "6-9",
            "count": 59
           },
           {
            "name": "17 others",
            "count": 398
           },
           {
            "name": "Missing",
            "count": 1
           }
          ]
         }
        },
        {
         "name": "Weight",
         "dtype": "float64",
         "stats": {
          "unique_count": 87,
          "nan_count": 1,
          "min": "161.0",
          "max": "307.0",
          "histogram": [
           {
            "bin_start": 161,
            "bin_end": 175.6,
            "count": 20
           },
           {
            "bin_start": 175.6,
            "bin_end": 190.2,
            "count": 49
           },
           {
            "bin_start": 190.2,
            "bin_end": 204.8,
            "count": 58
           },
           {
            "bin_start": 204.8,
            "bin_end": 219.4,
            "count": 78
           },
           {
            "bin_start": 219.4,
            "bin_end": 234,
            "count": 87
           },
           {
            "bin_start": 234,
            "bin_end": 248.6,
            "count": 84
           },
           {
            "bin_start": 248.6,
            "bin_end": 263.2,
            "count": 55
           },
           {
            "bin_start": 263.2,
            "bin_end": 277.8,
            "count": 20
           },
           {
            "bin_start": 277.8,
            "bin_end": 292.4,
            "count": 5
           },
           {
            "bin_start": 292.4,
            "bin_end": 307,
            "count": 1
           }
          ]
         }
        },
        {
         "name": "College",
         "dtype": "object",
         "stats": {
          "unique_count": 118,
          "nan_count": 85,
          "categories": [
           {
            "name": "Kentucky",
            "count": 22
           },
           {
            "name": "117 others",
            "count": 351
           },
           {
            "name": "Missing",
            "count": 85
           }
          ]
         }
        },
        {
         "name": "Salary",
         "dtype": "float64",
         "stats": {
          "unique_count": 309,
          "nan_count": 12,
          "min": "30888.0",
          "max": "25000000.0",
          "histogram": [
           {
            "bin_start": 30888,
            "bin_end": 2527799.2,
            "count": 213
           },
           {
            "bin_start": 2527799.2,
            "bin_end": 5024710.4,
            "count": 91
           },
           {
            "bin_start": 5024710.4,
            "bin_end": 7521621.600000001,
            "count": 44
           },
           {
            "bin_start": 7521621.600000001,
            "bin_end": 10018532.8,
            "count": 27
           },
           {
            "bin_start": 10018532.8,
            "bin_end": 12515444,
            "count": 20
           },
           {
            "bin_start": 12515444,
            "bin_end": 15012355.200000001,
            "count": 18
           },
           {
            "bin_start": 15012355.200000001,
            "bin_end": 17509266.400000002,
            "count": 17
           },
           {
            "bin_start": 17509266.400000002,
            "bin_end": 20006177.6,
            "count": 8
           },
           {
            "bin_start": 20006177.6,
            "bin_end": 22503088.8,
            "count": 5
           },
           {
            "bin_start": 22503088.8,
            "bin_end": 25000000,
            "count": 3
           }
          ]
         }
        },
        {
         "name": "_deepnote_index_column",
         "dtype": "int64"
        }
       ],
       "rows": [
        {
         "Name": "Avery Bradley",
         "Team": "Boston Celtics",
         "Number": 0,
         "Position": "PG",
         "Age": 25,
         "Height": "6-2",
         "Weight": 180,
         "College": "Texas",
         "Salary": 7730337,
         "_deepnote_index_column": 0
        },
        {
         "Name": "Jae Crowder",
         "Team": "Boston Celtics",
         "Number": 99,
         "Position": "SF",
         "Age": 25,
         "Height": "6-6",
         "Weight": 235,
         "College": "Marquette",
         "Salary": 6796117,
         "_deepnote_index_column": 1
        },
        {
         "Name": "John Holland",
         "Team": "Boston Celtics",
         "Number": 30,
         "Position": "SG",
         "Age": 27,
         "Height": "6-5",
         "Weight": 205,
         "College": "Boston University",
         "Salary": "nan",
         "_deepnote_index_column": 2
        },
        {
         "Name": "R.J. Hunter",
         "Team": "Boston Celtics",
         "Number": 28,
         "Position": "SG",
         "Age": 22,
         "Height": "6-5",
         "Weight": 185,
         "College": "Georgia State",
         "Salary": 1148640,
         "_deepnote_index_column": 3
        },
        {
         "Name": "Jonas Jerebko",
         "Team": "Boston Celtics",
         "Number": 8,
         "Position": "PF",
         "Age": 29,
         "Height": "6-10",
         "Weight": 231,
         "College": "nan",
         "Salary": 5000000,
         "_deepnote_index_column": 4
        },
        {
         "Name": "Amir Johnson",
         "Team": "Boston Celtics",
         "Number": 90,
         "Position": "PF",
         "Age": 29,
         "Height": "6-9",
         "Weight": 240,
         "College": "nan",
         "Salary": 12000000,
         "_deepnote_index_column": 5
        },
        {
         "Name": "Jordan Mickey",
         "Team": "Boston Celtics",
         "Number": 55,
         "Position": "PF",
         "Age": 21,
         "Height": "6-8",
         "Weight": 235,
         "College": "LSU",
         "Salary": 1170960,
         "_deepnote_index_column": 6
        },
        {
         "Name": "Kelly Olynyk",
         "Team": "Boston Celtics",
         "Number": 41,
         "Position": "C",
         "Age": 25,
         "Height": "7-0",
         "Weight": 238,
         "College": "Gonzaga",
         "Salary": 2165160,
         "_deepnote_index_column": 7
        },
        {
         "Name": "Terry Rozier",
         "Team": "Boston Celtics",
         "Number": 12,
         "Position": "PG",
         "Age": 22,
         "Height": "6-2",
         "Weight": 190,
         "College": "Louisville",
         "Salary": 1824360,
         "_deepnote_index_column": 8
        },
        {
         "Name": "Marcus Smart",
         "Team": "Boston Celtics",
         "Number": 36,
         "Position": "PG",
         "Age": 22,
         "Height": "6-4",
         "Weight": 220,
         "College": "Oklahoma State",
         "Salary": 3431040,
         "_deepnote_index_column": 9
        }
       ]
      },
      "text/plain": "              Name            Team  Number Position   Age Height  Weight  \\\n0    Avery Bradley  Boston Celtics     0.0       PG  25.0    6-2   180.0   \n1      Jae Crowder  Boston Celtics    99.0       SF  25.0    6-6   235.0   \n2     John Holland  Boston Celtics    30.0       SG  27.0    6-5   205.0   \n3      R.J. Hunter  Boston Celtics    28.0       SG  22.0    6-5   185.0   \n4    Jonas Jerebko  Boston Celtics     8.0       PF  29.0   6-10   231.0   \n..             ...             ...     ...      ...   ...    ...     ...   \n453   Shelvin Mack       Utah Jazz     8.0       PG  26.0    6-3   203.0   \n454      Raul Neto       Utah Jazz    25.0       PG  24.0    6-1   179.0   \n455   Tibor Pleiss       Utah Jazz    21.0        C  26.0    7-3   256.0   \n456    Jeff Withey       Utah Jazz    24.0        C  26.0    7-0   231.0   \n457            NaN             NaN     NaN      NaN   NaN    NaN     NaN   \n\n               College     Salary  \n0                Texas  7730337.0  \n1            Marquette  6796117.0  \n2    Boston University        NaN  \n3        Georgia State  1148640.0  \n4                  NaN  5000000.0  \n..                 ...        ...  \n453             Butler  2433333.0  \n454                NaN   900000.0  \n455                NaN  2900000.0  \n456             Kansas   947276.0  \n457                NaN        NaN  \n\n[458 rows x 9 columns]",
      "text/html": "<div>\n<style scoped>\n    .dataframe tbody tr th:only-of-type {\n        vertical-align: middle;\n    }\n\n    .dataframe tbody tr th {\n        vertical-align: top;\n    }\n\n    .dataframe thead th {\n        text-align: right;\n    }\n</style>\n<table border=\"1\" class=\"dataframe\">\n  <thead>\n    <tr style=\"text-align: right;\">\n      <th></th>\n      <th>Name</th>\n      <th>Team</th>\n      <th>Number</th>\n      <th>Position</th>\n      <th>Age</th>\n      <th>Height</th>\n      <th>Weight</th>\n      <th>College</th>\n      <th>Salary</th>\n    </tr>\n  </thead>\n  <tbody>\n    <tr>\n      <th>0</th>\n      <td>Avery Bradley</td>\n      <td>Boston Celtics</td>\n      <td>0.0</td>\n      <td>PG</td>\n      <td>25.0</td>\n      <td>6-2</td>\n      <td>180.0</td>\n      <td>Texas</td>\n      <td>7730337.0</td>\n    </tr>\n    <tr>\n      <th>1</th>\n      <td>Jae Crowder</td>\n      <td>Boston Celtics</td>\n      <td>99.0</td>\n      <td>SF</td>\n      <td>25.0</td>\n      <td>6-6</td>\n      <td>235.0</td>\n      <td>Marquette</td>\n      <td>6796117.0</td>\n    </tr>\n    <tr>\n      <th>2</th>\n      <td>John Holland</td>\n      <td>Boston Celtics</td>\n      <td>30.0</td>\n      <td>SG</td>\n      <td>27.0</td>\n      <td>6-5</td>\n      <td>205.0</td>\n      <td>Boston University</td>\n      <td>NaN</td>\n    </tr>\n    <tr>\n      <th>3</th>\n      <td>R.J. Hunter</td>\n      <td>Boston Celtics</td>\n      <td>28.0</td>\n      <td>SG</td>\n      <td>22.0</td>\n      <td>6-5</td>\n      <td>185.0</td>\n      <td>Georgia State</td>\n      <td>1148640.0</td>\n    </tr>\n    <tr>\n      <th>4</th>\n      <td>Jonas Jerebko</td>\n      <td>Boston Celtics</td>\n      <td>8.0</td>\n      <td>PF</td>\n      <td>29.0</td>\n      <td>6-10</td>\n      <td>231.0</td>\n      <td>NaN</td>\n      <td>5000000.0</td>\n    </tr>\n    <tr>\n      <th>...</th>\n      <td>...</td>\n      <td>...</td>\n      <td>...</td>\n      <td>...</td>\n      <td>...</td>\n      <td>...</td>\n      <td>...</td>\n      <td>...</td>\n      <td>...</td>\n    </tr>\n    <tr>\n      <th>453</th>\n      <td>Shelvin Mack</td>\n      <td>Utah Jazz</td>\n      <td>8.0</td>\n      <td>PG</td>\n      <td>26.0</td>\n      <td>6-3</td>\n      <td>203.0</td>\n      <td>Butler</td>\n      <td>2433333.0</td>\n    </tr>\n    <tr>\n      <th>454</th>\n      <td>Raul Neto</td>\n      <td>Utah Jazz</td>\n      <td>25.0</td>\n      <td>PG</td>\n      <td>24.0</td>\n      <td>6-1</td>\n      <td>179.0</td>\n      <td>NaN</td>\n      <td>900000.0</td>\n    </tr>\n    <tr>\n      <th>455</th>\n      <td>Tibor Pleiss</td>\n      <td>Utah Jazz</td>\n      <td>21.0</td>\n      <td>C</td>\n      <td>26.0</td>\n      <td>7-3</td>\n      <td>256.0</td>\n      <td>NaN</td>\n      <td>2900000.0</td>\n    </tr>\n    <tr>\n      <th>456</th>\n      <td>Jeff Withey</td>\n      <td>Utah Jazz</td>\n      <td>24.0</td>\n      <td>C</td>\n      <td>26.0</td>\n      <td>7-0</td>\n      <td>231.0</td>\n      <td>Kansas</td>\n      <td>947276.0</td>\n    </tr>\n    <tr>\n      <th>457</th>\n      <td>NaN</td>\n      <td>NaN</td>\n      <td>NaN</td>\n      <td>NaN</td>\n      <td>NaN</td>\n      <td>NaN</td>\n      <td>NaN</td>\n      <td>NaN</td>\n      <td>NaN</td>\n    </tr>\n  </tbody>\n</table>\n<p>458 rows × 9 columns</p>\n</div>"
     },
     "metadata": {}
    }
   ]
  },
  {
   "cell_type": "code",
   "metadata": {
    "cell_id": "c171a1b3-ab8c-4f2d-8f4f-0c8f054251c3",
    "tags": [],
    "deepnote_to_be_reexecuted": false,
    "source_hash": "4e735e4",
    "execution_start": 1647707126518,
    "execution_millis": 5,
    "deepnote_cell_type": "code",
    "deepnote_cell_height": 99
   },
   "source": "def real_age(old_age):\n    return old_age+6",
   "execution_count": 32,
   "outputs": []
  },
  {
   "cell_type": "code",
   "metadata": {
    "cell_id": "704c3702-c0dd-418c-bb39-b8daf35154b4",
    "tags": [],
    "deepnote_to_be_reexecuted": false,
    "source_hash": "e62afcf",
    "execution_start": 1647707126528,
    "execution_millis": 43,
    "deepnote_cell_type": "code",
    "deepnote_cell_height": 616
   },
   "source": "df['Age in 2022'] = df['Age'].apply(real_age)\ndf",
   "execution_count": 33,
   "outputs": [
    {
     "output_type": "execute_result",
     "execution_count": 33,
     "data": {
      "application/vnd.deepnote.dataframe.v3+json": {
       "column_count": 10,
       "row_count": 458,
       "columns": [
        {
         "name": "Name",
         "dtype": "object",
         "stats": {
          "unique_count": 457,
          "nan_count": 1,
          "categories": [
           {
            "name": "Avery Bradley",
            "count": 1
           },
           {
            "name": "456 others",
            "count": 456
           },
           {
            "name": "Missing",
            "count": 1
           }
          ]
         }
        },
        {
         "name": "Team",
         "dtype": "object",
         "stats": {
          "unique_count": 30,
          "nan_count": 1,
          "categories": [
           {
            "name": "New Orleans Pelicans",
            "count": 19
           },
           {
            "name": "29 others",
            "count": 438
           },
           {
            "name": "Missing",
            "count": 1
           }
          ]
         }
        },
        {
         "name": "Number",
         "dtype": "float64",
         "stats": {
          "unique_count": 53,
          "nan_count": 1,
          "min": "0.0",
          "max": "99.0",
          "histogram": [
           {
            "bin_start": 0,
            "bin_end": 9.9,
            "count": 178
           },
           {
            "bin_start": 9.9,
            "bin_end": 19.8,
            "count": 100
           },
           {
            "bin_start": 19.8,
            "bin_end": 29.700000000000003,
            "count": 77
           },
           {
            "bin_start": 29.700000000000003,
            "bin_end": 39.6,
            "count": 55
           },
           {
            "bin_start": 39.6,
            "bin_end": 49.5,
            "count": 29
           },
           {
            "bin_start": 49.5,
            "bin_end": 59.400000000000006,
            "count": 11
           },
           {
            "bin_start": 59.400000000000006,
            "bin_end": 69.3,
            "count": 0
           },
           {
            "bin_start": 69.3,
            "bin_end": 79.2,
            "count": 2
           },
           {
            "bin_start": 79.2,
            "bin_end": 89.10000000000001,
            "count": 1
           },
           {
            "bin_start": 89.10000000000001,
            "bin_end": 99,
            "count": 4
           }
          ]
         }
        },
        {
         "name": "Position",
         "dtype": "object",
         "stats": {
          "unique_count": 5,
          "nan_count": 1,
          "categories": [
           {
            "name": "SG",
            "count": 102
           },
           {
            "name": "4 others",
            "count": 355
           },
           {
            "name": "Missing",
            "count": 1
           }
          ]
         }
        },
        {
         "name": "Age",
         "dtype": "float64",
         "stats": {
          "unique_count": 22,
          "nan_count": 1,
          "min": "19.0",
          "max": "40.0",
          "histogram": [
           {
            "bin_start": 19,
            "bin_end": 21.1,
            "count": 40
           },
           {
            "bin_start": 21.1,
            "bin_end": 23.2,
            "count": 67
           },
           {
            "bin_start": 23.2,
            "bin_end": 25.3,
            "count": 92
           },
           {
            "bin_start": 25.3,
            "bin_end": 27.4,
            "count": 77
           },
           {
            "bin_start": 27.4,
            "bin_end": 29.5,
            "count": 59
           },
           {
            "bin_start": 29.5,
            "bin_end": 31.6,
            "count": 53
           },
           {
            "bin_start": 31.6,
            "bin_end": 33.7,
            "count": 27
           },
           {
            "bin_start": 33.7,
            "bin_end": 35.8,
            "count": 19
           },
           {
            "bin_start": 35.8,
            "bin_end": 37.900000000000006,
            "count": 14
           },
           {
            "bin_start": 37.900000000000006,
            "bin_end": 40,
            "count": 9
           }
          ]
         }
        },
        {
         "name": "Height",
         "dtype": "object",
         "stats": {
          "unique_count": 18,
          "nan_count": 1,
          "categories": [
           {
            "name": "6-9",
            "count": 59
           },
           {
            "name": "17 others",
            "count": 398
           },
           {
            "name": "Missing",
            "count": 1
           }
          ]
         }
        },
        {
         "name": "Weight",
         "dtype": "float64",
         "stats": {
          "unique_count": 87,
          "nan_count": 1,
          "min": "161.0",
          "max": "307.0",
          "histogram": [
           {
            "bin_start": 161,
            "bin_end": 175.6,
            "count": 20
           },
           {
            "bin_start": 175.6,
            "bin_end": 190.2,
            "count": 49
           },
           {
            "bin_start": 190.2,
            "bin_end": 204.8,
            "count": 58
           },
           {
            "bin_start": 204.8,
            "bin_end": 219.4,
            "count": 78
           },
           {
            "bin_start": 219.4,
            "bin_end": 234,
            "count": 87
           },
           {
            "bin_start": 234,
            "bin_end": 248.6,
            "count": 84
           },
           {
            "bin_start": 248.6,
            "bin_end": 263.2,
            "count": 55
           },
           {
            "bin_start": 263.2,
            "bin_end": 277.8,
            "count": 20
           },
           {
            "bin_start": 277.8,
            "bin_end": 292.4,
            "count": 5
           },
           {
            "bin_start": 292.4,
            "bin_end": 307,
            "count": 1
           }
          ]
         }
        },
        {
         "name": "College",
         "dtype": "object",
         "stats": {
          "unique_count": 118,
          "nan_count": 85,
          "categories": [
           {
            "name": "Kentucky",
            "count": 22
           },
           {
            "name": "117 others",
            "count": 351
           },
           {
            "name": "Missing",
            "count": 85
           }
          ]
         }
        },
        {
         "name": "Salary",
         "dtype": "float64",
         "stats": {
          "unique_count": 309,
          "nan_count": 12,
          "min": "30888.0",
          "max": "25000000.0",
          "histogram": [
           {
            "bin_start": 30888,
            "bin_end": 2527799.2,
            "count": 213
           },
           {
            "bin_start": 2527799.2,
            "bin_end": 5024710.4,
            "count": 91
           },
           {
            "bin_start": 5024710.4,
            "bin_end": 7521621.600000001,
            "count": 44
           },
           {
            "bin_start": 7521621.600000001,
            "bin_end": 10018532.8,
            "count": 27
           },
           {
            "bin_start": 10018532.8,
            "bin_end": 12515444,
            "count": 20
           },
           {
            "bin_start": 12515444,
            "bin_end": 15012355.200000001,
            "count": 18
           },
           {
            "bin_start": 15012355.200000001,
            "bin_end": 17509266.400000002,
            "count": 17
           },
           {
            "bin_start": 17509266.400000002,
            "bin_end": 20006177.6,
            "count": 8
           },
           {
            "bin_start": 20006177.6,
            "bin_end": 22503088.8,
            "count": 5
           },
           {
            "bin_start": 22503088.8,
            "bin_end": 25000000,
            "count": 3
           }
          ]
         }
        },
        {
         "name": "Age in 2022",
         "dtype": "float64",
         "stats": {
          "unique_count": 22,
          "nan_count": 1,
          "min": "25.0",
          "max": "46.0",
          "histogram": [
           {
            "bin_start": 25,
            "bin_end": 27.1,
            "count": 40
           },
           {
            "bin_start": 27.1,
            "bin_end": 29.2,
            "count": 67
           },
           {
            "bin_start": 29.2,
            "bin_end": 31.3,
            "count": 92
           },
           {
            "bin_start": 31.3,
            "bin_end": 33.4,
            "count": 77
           },
           {
            "bin_start": 33.4,
            "bin_end": 35.5,
            "count": 59
           },
           {
            "bin_start": 35.5,
            "bin_end": 37.6,
            "count": 53
           },
           {
            "bin_start": 37.6,
            "bin_end": 39.7,
            "count": 27
           },
           {
            "bin_start": 39.7,
            "bin_end": 41.8,
            "count": 19
           },
           {
            "bin_start": 41.8,
            "bin_end": 43.900000000000006,
            "count": 14
           },
           {
            "bin_start": 43.900000000000006,
            "bin_end": 46,
            "count": 9
           }
          ]
         }
        },
        {
         "name": "_deepnote_index_column",
         "dtype": "int64"
        }
       ],
       "rows": [
        {
         "Name": "Avery Bradley",
         "Team": "Boston Celtics",
         "Number": 0,
         "Position": "PG",
         "Age": 25,
         "Height": "6-2",
         "Weight": 180,
         "College": "Texas",
         "Salary": 7730337,
         "Age in 2022": 31,
         "_deepnote_index_column": 0
        },
        {
         "Name": "Jae Crowder",
         "Team": "Boston Celtics",
         "Number": 99,
         "Position": "SF",
         "Age": 25,
         "Height": "6-6",
         "Weight": 235,
         "College": "Marquette",
         "Salary": 6796117,
         "Age in 2022": 31,
         "_deepnote_index_column": 1
        },
        {
         "Name": "John Holland",
         "Team": "Boston Celtics",
         "Number": 30,
         "Position": "SG",
         "Age": 27,
         "Height": "6-5",
         "Weight": 205,
         "College": "Boston University",
         "Salary": "nan",
         "Age in 2022": 33,
         "_deepnote_index_column": 2
        },
        {
         "Name": "R.J. Hunter",
         "Team": "Boston Celtics",
         "Number": 28,
         "Position": "SG",
         "Age": 22,
         "Height": "6-5",
         "Weight": 185,
         "College": "Georgia State",
         "Salary": 1148640,
         "Age in 2022": 28,
         "_deepnote_index_column": 3
        },
        {
         "Name": "Jonas Jerebko",
         "Team": "Boston Celtics",
         "Number": 8,
         "Position": "PF",
         "Age": 29,
         "Height": "6-10",
         "Weight": 231,
         "College": "nan",
         "Salary": 5000000,
         "Age in 2022": 35,
         "_deepnote_index_column": 4
        },
        {
         "Name": "Amir Johnson",
         "Team": "Boston Celtics",
         "Number": 90,
         "Position": "PF",
         "Age": 29,
         "Height": "6-9",
         "Weight": 240,
         "College": "nan",
         "Salary": 12000000,
         "Age in 2022": 35,
         "_deepnote_index_column": 5
        },
        {
         "Name": "Jordan Mickey",
         "Team": "Boston Celtics",
         "Number": 55,
         "Position": "PF",
         "Age": 21,
         "Height": "6-8",
         "Weight": 235,
         "College": "LSU",
         "Salary": 1170960,
         "Age in 2022": 27,
         "_deepnote_index_column": 6
        },
        {
         "Name": "Kelly Olynyk",
         "Team": "Boston Celtics",
         "Number": 41,
         "Position": "C",
         "Age": 25,
         "Height": "7-0",
         "Weight": 238,
         "College": "Gonzaga",
         "Salary": 2165160,
         "Age in 2022": 31,
         "_deepnote_index_column": 7
        },
        {
         "Name": "Terry Rozier",
         "Team": "Boston Celtics",
         "Number": 12,
         "Position": "PG",
         "Age": 22,
         "Height": "6-2",
         "Weight": 190,
         "College": "Louisville",
         "Salary": 1824360,
         "Age in 2022": 28,
         "_deepnote_index_column": 8
        },
        {
         "Name": "Marcus Smart",
         "Team": "Boston Celtics",
         "Number": 36,
         "Position": "PG",
         "Age": 22,
         "Height": "6-4",
         "Weight": 220,
         "College": "Oklahoma State",
         "Salary": 3431040,
         "Age in 2022": 28,
         "_deepnote_index_column": 9
        }
       ]
      },
      "text/plain": "              Name            Team  Number Position   Age Height  Weight  \\\n0    Avery Bradley  Boston Celtics     0.0       PG  25.0    6-2   180.0   \n1      Jae Crowder  Boston Celtics    99.0       SF  25.0    6-6   235.0   \n2     John Holland  Boston Celtics    30.0       SG  27.0    6-5   205.0   \n3      R.J. Hunter  Boston Celtics    28.0       SG  22.0    6-5   185.0   \n4    Jonas Jerebko  Boston Celtics     8.0       PF  29.0   6-10   231.0   \n..             ...             ...     ...      ...   ...    ...     ...   \n453   Shelvin Mack       Utah Jazz     8.0       PG  26.0    6-3   203.0   \n454      Raul Neto       Utah Jazz    25.0       PG  24.0    6-1   179.0   \n455   Tibor Pleiss       Utah Jazz    21.0        C  26.0    7-3   256.0   \n456    Jeff Withey       Utah Jazz    24.0        C  26.0    7-0   231.0   \n457            NaN             NaN     NaN      NaN   NaN    NaN     NaN   \n\n               College     Salary  Age in 2022  \n0                Texas  7730337.0         31.0  \n1            Marquette  6796117.0         31.0  \n2    Boston University        NaN         33.0  \n3        Georgia State  1148640.0         28.0  \n4                  NaN  5000000.0         35.0  \n..                 ...        ...          ...  \n453             Butler  2433333.0         32.0  \n454                NaN   900000.0         30.0  \n455                NaN  2900000.0         32.0  \n456             Kansas   947276.0         32.0  \n457                NaN        NaN          NaN  \n\n[458 rows x 10 columns]",
      "text/html": "<div>\n<style scoped>\n    .dataframe tbody tr th:only-of-type {\n        vertical-align: middle;\n    }\n\n    .dataframe tbody tr th {\n        vertical-align: top;\n    }\n\n    .dataframe thead th {\n        text-align: right;\n    }\n</style>\n<table border=\"1\" class=\"dataframe\">\n  <thead>\n    <tr style=\"text-align: right;\">\n      <th></th>\n      <th>Name</th>\n      <th>Team</th>\n      <th>Number</th>\n      <th>Position</th>\n      <th>Age</th>\n      <th>Height</th>\n      <th>Weight</th>\n      <th>College</th>\n      <th>Salary</th>\n      <th>Age in 2022</th>\n    </tr>\n  </thead>\n  <tbody>\n    <tr>\n      <th>0</th>\n      <td>Avery Bradley</td>\n      <td>Boston Celtics</td>\n      <td>0.0</td>\n      <td>PG</td>\n      <td>25.0</td>\n      <td>6-2</td>\n      <td>180.0</td>\n      <td>Texas</td>\n      <td>7730337.0</td>\n      <td>31.0</td>\n    </tr>\n    <tr>\n      <th>1</th>\n      <td>Jae Crowder</td>\n      <td>Boston Celtics</td>\n      <td>99.0</td>\n      <td>SF</td>\n      <td>25.0</td>\n      <td>6-6</td>\n      <td>235.0</td>\n      <td>Marquette</td>\n      <td>6796117.0</td>\n      <td>31.0</td>\n    </tr>\n    <tr>\n      <th>2</th>\n      <td>John Holland</td>\n      <td>Boston Celtics</td>\n      <td>30.0</td>\n      <td>SG</td>\n      <td>27.0</td>\n      <td>6-5</td>\n      <td>205.0</td>\n      <td>Boston University</td>\n      <td>NaN</td>\n      <td>33.0</td>\n    </tr>\n    <tr>\n      <th>3</th>\n      <td>R.J. Hunter</td>\n      <td>Boston Celtics</td>\n      <td>28.0</td>\n      <td>SG</td>\n      <td>22.0</td>\n      <td>6-5</td>\n      <td>185.0</td>\n      <td>Georgia State</td>\n      <td>1148640.0</td>\n      <td>28.0</td>\n    </tr>\n    <tr>\n      <th>4</th>\n      <td>Jonas Jerebko</td>\n      <td>Boston Celtics</td>\n      <td>8.0</td>\n      <td>PF</td>\n      <td>29.0</td>\n      <td>6-10</td>\n      <td>231.0</td>\n      <td>NaN</td>\n      <td>5000000.0</td>\n      <td>35.0</td>\n    </tr>\n    <tr>\n      <th>...</th>\n      <td>...</td>\n      <td>...</td>\n      <td>...</td>\n      <td>...</td>\n      <td>...</td>\n      <td>...</td>\n      <td>...</td>\n      <td>...</td>\n      <td>...</td>\n      <td>...</td>\n    </tr>\n    <tr>\n      <th>453</th>\n      <td>Shelvin Mack</td>\n      <td>Utah Jazz</td>\n      <td>8.0</td>\n      <td>PG</td>\n      <td>26.0</td>\n      <td>6-3</td>\n      <td>203.0</td>\n      <td>Butler</td>\n      <td>2433333.0</td>\n      <td>32.0</td>\n    </tr>\n    <tr>\n      <th>454</th>\n      <td>Raul Neto</td>\n      <td>Utah Jazz</td>\n      <td>25.0</td>\n      <td>PG</td>\n      <td>24.0</td>\n      <td>6-1</td>\n      <td>179.0</td>\n      <td>NaN</td>\n      <td>900000.0</td>\n      <td>30.0</td>\n    </tr>\n    <tr>\n      <th>455</th>\n      <td>Tibor Pleiss</td>\n      <td>Utah Jazz</td>\n      <td>21.0</td>\n      <td>C</td>\n      <td>26.0</td>\n      <td>7-3</td>\n      <td>256.0</td>\n      <td>NaN</td>\n      <td>2900000.0</td>\n      <td>32.0</td>\n    </tr>\n    <tr>\n      <th>456</th>\n      <td>Jeff Withey</td>\n      <td>Utah Jazz</td>\n      <td>24.0</td>\n      <td>C</td>\n      <td>26.0</td>\n      <td>7-0</td>\n      <td>231.0</td>\n      <td>Kansas</td>\n      <td>947276.0</td>\n      <td>32.0</td>\n    </tr>\n    <tr>\n      <th>457</th>\n      <td>NaN</td>\n      <td>NaN</td>\n      <td>NaN</td>\n      <td>NaN</td>\n      <td>NaN</td>\n      <td>NaN</td>\n      <td>NaN</td>\n      <td>NaN</td>\n      <td>NaN</td>\n      <td>NaN</td>\n    </tr>\n  </tbody>\n</table>\n<p>458 rows × 10 columns</p>\n</div>"
     },
     "metadata": {}
    }
   ]
  },
  {
   "cell_type": "markdown",
   "source": "## 🏋️🏋️ In pairs or individually:\n\n\n1. Make all teams use only all capitals\n2. Make all positions all smalls\n3. Make positions full words (you need... a dictionary)",
   "metadata": {
    "cell_id": "8d7c89ed-424c-4078-85eb-d9a5bfd26e39",
    "tags": [],
    "deepnote_cell_type": "markdown",
    "deepnote_cell_height": 173.1875
   }
  },
  {
   "cell_type": "markdown",
   "source": "<a style='text-decoration:none;line-height:16px;display:flex;color:#5B5B62;padding:10px;justify-content:end;' href='https://deepnote.com?utm_source=created-in-deepnote-cell&projectId=6cc8e273-ccff-4aba-902f-885b29543ce6' target=\"_blank\">\n<img alt='Created in deepnote.com' style='display:inline;max-height:16px;margin:0px;margin-right:7.5px;' src='data:image/svg+xml;base64,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' > </img>\nCreated in <span style='font-weight:600;margin-left:4px;'>Deepnote</span></a>",
   "metadata": {
    "tags": [],
    "created_in_deepnote_cell": true,
    "deepnote_cell_type": "markdown"
   }
  }
 ],
 "nbformat": 4,
 "nbformat_minor": 2,
 "metadata": {
  "orig_nbformat": 2,
  "deepnote": {
   "is_reactive": false
  },
  "deepnote_notebook_id": "223cf112-c0da-482e-9280-18c09477fe75",
  "deepnote_execution_queue": []
 }
}